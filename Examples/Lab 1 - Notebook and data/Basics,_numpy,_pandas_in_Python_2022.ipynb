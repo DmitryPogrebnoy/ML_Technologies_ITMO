{
  "nbformat": 4,
  "nbformat_minor": 0,
  "metadata": {
    "colab": {
      "name": "Basics, numpy, pandas in Python.ipynb",
      "provenance": [],
      "collapsed_sections": [
        "8mpdvSEy1Zvk",
        "ltb5TcWVvE7l",
        "VDSAp0IfvE70",
        "ictx1E8qvE75",
        "CtEd_AEmvE76",
        "TDPSSuigvE8N",
        "8nTVIESs8ng2",
        "iByafSsk_W2G",
        "DnWsfl3Z_cVM",
        "2R2RPnAtC--R",
        "4gW5VE90Duoa",
        "5obT7WeGFDwc",
        "dQ5q5zH6FNhn",
        "uTnUGmqHGZps",
        "7qySmp6cHm3B",
        "IyK3zWZTJUo7",
        "bPKMsOWSJmue",
        "l2vhfbMzcvuf",
        "sq6-S8OBdeuf"
      ]
    },
    "kernelspec": {
      "display_name": "Python 3",
      "language": "python",
      "name": "python3"
    },
    "language_info": {
      "codemirror_mode": {
        "name": "ipython",
        "version": 3
      },
      "file_extension": ".py",
      "mimetype": "text/x-python",
      "name": "python",
      "nbconvert_exporter": "python",
      "pygments_lexer": "ipython3",
      "version": "3.7.0"
    }
  },
  "cells": [
    {
      "cell_type": "markdown",
      "metadata": {
        "id": "tIN8B0n8vE5f"
      },
      "source": [
        "# Basic types and constructions in Python"
      ]
    },
    {
      "cell_type": "markdown",
      "metadata": {
        "id": "ZqqDqaZnvE5k"
      },
      "source": [
        "## 1. Basic types: numeric types"
      ]
    },
    {
      "cell_type": "code",
      "metadata": {
        "id": "93nU6JCmvE5w"
      },
      "source": [
        "# int\n",
        "num = 5\n",
        "print(num)\n",
        "print(type(num))"
      ],
      "execution_count": null,
      "outputs": []
    },
    {
      "cell_type": "code",
      "metadata": {
        "id": "StU_X3zUvE54"
      },
      "source": [
        "# float\n",
        "num = 13.4\n",
        "print(num)\n",
        "\n",
        "num = 1.5e2\n",
        "print(type(num))"
      ],
      "execution_count": null,
      "outputs": []
    },
    {
      "cell_type": "code",
      "metadata": {
        "id": "cqvxMA2NvE5_"
      },
      "source": [
        "# Python may convert types\n",
        "num = int(num)\n",
        "print(num, type(num))\n",
        "\n",
        "num = float(num)\n",
        "print(num, type(num))"
      ],
      "execution_count": null,
      "outputs": []
    },
    {
      "cell_type": "markdown",
      "metadata": {
        "id": "_WwY2PBhvE6o"
      },
      "source": [
        "## 2. Basic types: **logical types**"
      ]
    },
    {
      "cell_type": "code",
      "metadata": {
        "id": "dSlDe81PvE6p"
      },
      "source": [
        "# bool\n",
        "print(3 > 4)\n",
        "print(3 <= 3)\n",
        "print(6 >= 6)\n",
        "print(6 < 5)"
      ],
      "execution_count": null,
      "outputs": []
    },
    {
      "cell_type": "code",
      "metadata": {
        "id": "q8Z_6dHFvE6r"
      },
      "source": [
        "x=False  \n",
        "y=True\n",
        "print(x and y) # logical and\n",
        "print(x or y) # logical or\n",
        "print(not y) # logical not"
      ],
      "execution_count": null,
      "outputs": []
    },
    {
      "cell_type": "code",
      "metadata": {
        "id": "ksEl1kBIzJu9",
        "colab": {
          "base_uri": "https://localhost:8080/"
        },
        "outputId": "77979b51-4b4e-41cc-8c52-6a7e5bcf3b13"
      },
      "source": [
        "# example\n",
        "x, y, z = True, False, True\n",
        "result = x and y or z\n",
        "print(result)"
      ],
      "execution_count": null,
      "outputs": [
        {
          "output_type": "stream",
          "text": [
            "True\n"
          ],
          "name": "stdout"
        }
      ]
    },
    {
      "cell_type": "markdown",
      "metadata": {
        "id": "XFUeoYTAzVsh"
      },
      "source": [
        "## 3. Basic types: string"
      ]
    },
    {
      "cell_type": "code",
      "metadata": {
        "id": "3UjvQiyIzbsA",
        "colab": {
          "base_uri": "https://localhost:8080/"
        },
        "outputId": "24266d61-6152-40a3-f5f7-ec6a751301e8"
      },
      "source": [
        "example_string = \"Python course in ITMO\"\n",
        "print(example_string)\n",
        "print(type(example_string))"
      ],
      "execution_count": null,
      "outputs": [
        {
          "output_type": "stream",
          "text": [
            "Python course in ITMO\n",
            "<class 'str'>\n"
          ],
          "name": "stdout"
        }
      ]
    },
    {
      "cell_type": "code",
      "metadata": {
        "id": "LYCITar6A89l",
        "colab": {
          "base_uri": "https://localhost:8080/",
          "height": 35
        },
        "outputId": "dbe5ff6d-8322-4cf1-9c46-d739502e530b"
      },
      "source": [
        "example_string[7]"
      ],
      "execution_count": null,
      "outputs": [
        {
          "output_type": "execute_result",
          "data": {
            "application/vnd.google.colaboratory.intrinsic+json": {
              "type": "string"
            },
            "text/plain": [
              "'c'"
            ]
          },
          "metadata": {
            "tags": []
          },
          "execution_count": 86
        }
      ]
    },
    {
      "cell_type": "code",
      "metadata": {
        "id": "LCl3DCKnzbuV"
      },
      "source": [
        "# combine strings \n",
        "\"You \" + \"can \" + \"just \" + \"add \" + \"one \" + \"string \" + \"to another \""
      ],
      "execution_count": null,
      "outputs": []
    },
    {
      "cell_type": "code",
      "metadata": {
        "id": "c1KfRSyOzbw-",
        "colab": {
          "base_uri": "https://localhost:8080/",
          "height": 35
        },
        "outputId": "5ca55b71-0ec4-485d-8753-ec09e39c271d"
      },
      "source": [
        "# slicing string\n",
        "example_string = \"Python cource in ITMO\"\n",
        "example_string[17:21]"
      ],
      "execution_count": null,
      "outputs": [
        {
          "output_type": "execute_result",
          "data": {
            "application/vnd.google.colaboratory.intrinsic+json": {
              "type": "string"
            },
            "text/plain": [
              "'ITMO'"
            ]
          },
          "metadata": {
            "tags": []
          },
          "execution_count": 87
        }
      ]
    },
    {
      "cell_type": "code",
      "metadata": {
        "id": "Eov4RxiC0h-S",
        "colab": {
          "base_uri": "https://localhost:8080/"
        },
        "outputId": "fee80a81-6c58-4f58-f9f5-e83aa2d99585"
      },
      "source": [
        "# 'in' operator \n",
        "\"3.14\" in \"Pi number = 3.1415926\""
      ],
      "execution_count": null,
      "outputs": [
        {
          "output_type": "execute_result",
          "data": {
            "text/plain": [
              "True"
            ]
          },
          "metadata": {
            "tags": []
          },
          "execution_count": 89
        }
      ]
    },
    {
      "cell_type": "code",
      "metadata": {
        "id": "M0lytxjHBfVh"
      },
      "source": [
        " "
      ],
      "execution_count": null,
      "outputs": []
    },
    {
      "cell_type": "code",
      "metadata": {
        "id": "RTU671420vYb",
        "colab": {
          "base_uri": "https://localhost:8080/"
        },
        "outputId": "c8b8ed42-c213-4fbd-a9c8-9a086e8995ee"
      },
      "source": [
        "example_string = \"ITMO\"\n",
        "for letter in example_string:\n",
        "    print(\"Letter\", letter)"
      ],
      "execution_count": null,
      "outputs": [
        {
          "output_type": "stream",
          "text": [
            "Letter I\n",
            "Letter T\n",
            "Letter M\n",
            "Letter O\n"
          ],
          "name": "stdout"
        }
      ]
    },
    {
      "cell_type": "code",
      "metadata": {
        "id": "0M5lu-xn08Ps",
        "colab": {
          "base_uri": "https://localhost:8080/",
          "height": 35
        },
        "outputId": "e1874145-5baf-43d3-d092-7b0fc24128f2"
      },
      "source": [
        "# create string \n",
        "\"{num} K ought to be enough for anybody. ({author})\".format(\n",
        "    num=\"ITMO\", author=\"Bill Gates\")"
      ],
      "execution_count": null,
      "outputs": [
        {
          "output_type": "execute_result",
          "data": {
            "application/vnd.google.colaboratory.intrinsic+json": {
              "type": "string"
            },
            "text/plain": [
              "'ITMO K ought to be enough for anybody. (Bill Gates)'"
            ]
          },
          "metadata": {
            "tags": []
          },
          "execution_count": 91
        }
      ]
    },
    {
      "cell_type": "markdown",
      "metadata": {
        "id": "8mpdvSEy1Zvk"
      },
      "source": [
        "## 4. Basic types: None object\n",
        "\n"
      ]
    },
    {
      "cell_type": "code",
      "metadata": {
        "id": "JfB-l3S-1gGN",
        "colab": {
          "base_uri": "https://localhost:8080/"
        },
        "outputId": "9e9f1a61-71af-427a-cb8b-b8723bf5563c"
      },
      "source": [
        "z = None\n",
        "print(z)\n",
        "print(type(z))"
      ],
      "execution_count": null,
      "outputs": [
        {
          "output_type": "stream",
          "text": [
            "None\n",
            "<class 'NoneType'>\n"
          ],
          "name": "stdout"
        }
      ]
    },
    {
      "cell_type": "markdown",
      "metadata": {
        "id": "UYVitVAVvE7l"
      },
      "source": [
        "# Collections in Python"
      ]
    },
    {
      "cell_type": "markdown",
      "metadata": {
        "id": "ltb5TcWVvE7l"
      },
      "source": [
        "## 1. Collections: list"
      ]
    },
    {
      "cell_type": "code",
      "metadata": {
        "id": "hi6DPqowCMKu"
      },
      "source": [
        "list0 = []"
      ],
      "execution_count": null,
      "outputs": []
    },
    {
      "cell_type": "code",
      "metadata": {
        "id": "PVAnsXJXvE7l",
        "colab": {
          "base_uri": "https://localhost:8080/"
        },
        "outputId": "93f23fad-3b48-4bed-ff50-d82526aa447b"
      },
      "source": [
        "saled_goods_count = [33450, 34010, 33990, 33200]\n",
        "\n",
        "print(saled_goods_count)\n",
        "print(type(saled_goods_count))"
      ],
      "execution_count": null,
      "outputs": [
        {
          "output_type": "stream",
          "text": [
            "[33450, 34010, 33990, 33200]\n",
            "<class 'list'>\n"
          ],
          "name": "stdout"
        }
      ]
    },
    {
      "cell_type": "code",
      "metadata": {
        "id": "aZ2BqQ6zvE7m",
        "colab": {
          "base_uri": "https://localhost:8080/"
        },
        "outputId": "5f02241b-6992-43bb-e49d-3c3ce0afbf31"
      },
      "source": [
        "collections = ['list', 'tuple', 'dict', 'set']\n",
        "\n",
        "print(collections)\n",
        "print(type(collections))"
      ],
      "execution_count": null,
      "outputs": [
        {
          "output_type": "stream",
          "text": [
            "['list', 'tuple', 'dict', 'set']\n",
            "<class 'list'>\n"
          ],
          "name": "stdout"
        }
      ]
    },
    {
      "cell_type": "code",
      "metadata": {
        "id": "doLsnmGjvE7p",
        "colab": {
          "base_uri": "https://localhost:8080/"
        },
        "outputId": "f7b129aa-aa0d-429a-e518-2380ab1c7cfa"
      },
      "source": [
        "features = ['Ivan Ivanovich', 'Medium', 500000, 12, True]\n",
        "print (features)\n",
        "print(type(features))"
      ],
      "execution_count": null,
      "outputs": [
        {
          "output_type": "stream",
          "text": [
            "['Ivan Ivanovich', 'Medium', 500000, 12, True]\n",
            "<class 'list'>\n"
          ],
          "name": "stdout"
        }
      ]
    },
    {
      "cell_type": "code",
      "metadata": {
        "id": "n5D9-VlC3i2f",
        "colab": {
          "base_uri": "https://localhost:8080/"
        },
        "outputId": "2f4e03f1-e509-4dfe-b8d9-9278ac821bf9"
      },
      "source": [
        "# list length\n",
        "len(collections)"
      ],
      "execution_count": null,
      "outputs": [
        {
          "output_type": "execute_result",
          "data": {
            "text/plain": [
              "4"
            ]
          },
          "metadata": {
            "tags": []
          },
          "execution_count": 24
        }
      ]
    },
    {
      "cell_type": "code",
      "metadata": {
        "id": "9AowbgoavE7q",
        "colab": {
          "base_uri": "https://localhost:8080/"
        },
        "outputId": "b7643abf-74e0-471b-b88b-001a18f3f3fa"
      },
      "source": [
        "# indexes and slices\n",
        "print(collections)\n",
        "\n",
        "print(collections[0])\n",
        "print(collections[-1])"
      ],
      "execution_count": null,
      "outputs": [
        {
          "output_type": "stream",
          "text": [
            "['list', 'tuple', 'dict', 'set']\n",
            "list\n",
            "set\n"
          ],
          "name": "stdout"
        }
      ]
    },
    {
      "cell_type": "code",
      "metadata": {
        "id": "DzmRHP074K5Q",
        "colab": {
          "base_uri": "https://localhost:8080/"
        },
        "outputId": "1ce6a3af-3825-4513-da82-d2e4327856ff"
      },
      "source": [
        "range_list = list(range(5,10))\n",
        "print(range_list)"
      ],
      "execution_count": null,
      "outputs": [
        {
          "output_type": "stream",
          "text": [
            "[5, 6, 7, 8, 9]\n"
          ],
          "name": "stdout"
        }
      ]
    },
    {
      "cell_type": "code",
      "metadata": {
        "id": "iPKWjvlA4P-G",
        "colab": {
          "base_uri": "https://localhost:8080/"
        },
        "outputId": "1caec7da-76ba-4d6c-ef87-e3b5540ca90b"
      },
      "source": [
        "range_list[1:3]"
      ],
      "execution_count": null,
      "outputs": [
        {
          "output_type": "execute_result",
          "data": {
            "text/plain": [
              "[6, 7]"
            ]
          },
          "metadata": {
            "tags": []
          },
          "execution_count": 27
        }
      ]
    },
    {
      "cell_type": "code",
      "metadata": {
        "id": "rCzxC5dQ4S-h",
        "colab": {
          "base_uri": "https://localhost:8080/"
        },
        "outputId": "34bc04aa-c2ec-4389-e678-1fc8c6a03744"
      },
      "source": [
        "range_list[3:]"
      ],
      "execution_count": null,
      "outputs": [
        {
          "output_type": "execute_result",
          "data": {
            "text/plain": [
              "[8, 9]"
            ]
          },
          "metadata": {
            "tags": []
          },
          "execution_count": 28
        }
      ]
    },
    {
      "cell_type": "code",
      "metadata": {
        "id": "SHJhgp9m4VbF",
        "colab": {
          "base_uri": "https://localhost:8080/"
        },
        "outputId": "da6efcd4-c9bf-44b4-bd40-cfd8d8fff36f"
      },
      "source": [
        "range_list[:5]"
      ],
      "execution_count": null,
      "outputs": [
        {
          "output_type": "execute_result",
          "data": {
            "text/plain": [
              "[5, 6, 7, 8, 9]"
            ]
          },
          "metadata": {
            "tags": []
          },
          "execution_count": 29
        }
      ]
    },
    {
      "cell_type": "code",
      "metadata": {
        "id": "rFeIRoU-4Vdh",
        "colab": {
          "base_uri": "https://localhost:8080/"
        },
        "outputId": "9045b6c0-38f9-4524-ecae-807ff32d6117"
      },
      "source": [
        "range_list[::2]"
      ],
      "execution_count": null,
      "outputs": [
        {
          "output_type": "execute_result",
          "data": {
            "text/plain": [
              "[5, 7, 9]"
            ]
          },
          "metadata": {
            "tags": []
          },
          "execution_count": 30
        }
      ]
    },
    {
      "cell_type": "code",
      "metadata": {
        "id": "g3v2gNIo4Vf9",
        "colab": {
          "base_uri": "https://localhost:8080/"
        },
        "outputId": "7227e737-d844-4db6-a1fc-0985ad6237bf"
      },
      "source": [
        "range_list[::-1]"
      ],
      "execution_count": null,
      "outputs": [
        {
          "output_type": "execute_result",
          "data": {
            "text/plain": [
              "[9, 8, 7, 6, 5]"
            ]
          },
          "metadata": {
            "tags": []
          },
          "execution_count": 31
        }
      ]
    },
    {
      "cell_type": "code",
      "metadata": {
        "id": "-ixEdLbw4U6p",
        "colab": {
          "base_uri": "https://localhost:8080/"
        },
        "outputId": "e3f6c65e-8204-4ac1-a03c-e22990b06b54"
      },
      "source": [
        "# iterations\n",
        "collections = ['list', 'tuple', 'dict', 'set']\n",
        "\n",
        "for collection in collections:\n",
        "    print('Learning {}...'.format(collection))"
      ],
      "execution_count": null,
      "outputs": [
        {
          "output_type": "stream",
          "text": [
            "Learning list...\n",
            "Learning tuple...\n",
            "Learning dict...\n",
            "Learning set...\n"
          ],
          "name": "stdout"
        }
      ]
    },
    {
      "cell_type": "code",
      "metadata": {
        "id": "Fboikg5VvE7s",
        "colab": {
          "base_uri": "https://localhost:8080/"
        },
        "outputId": "428295f6-2921-49c4-8c67-bfe5f45fe2b8"
      },
      "source": [
        "for idx, collection in enumerate(collections):\n",
        "    print('#{} {}'.format(idx, collection))"
      ],
      "execution_count": null,
      "outputs": [
        {
          "output_type": "stream",
          "text": [
            "#0 list\n",
            "#1 tuple\n",
            "#2 dict\n",
            "#3 set\n"
          ],
          "name": "stdout"
        }
      ]
    },
    {
      "cell_type": "code",
      "metadata": {
        "id": "4iCFr3rj4qs2",
        "colab": {
          "base_uri": "https://localhost:8080/"
        },
        "outputId": "b5e2de89-df2c-497e-87e3-e7867e9459a4"
      },
      "source": [
        "# add or remove elements\n",
        "collections.append('OrderedDict')\n",
        "\n",
        "print(collections)"
      ],
      "execution_count": null,
      "outputs": [
        {
          "output_type": "stream",
          "text": [
            "['list', 'tuple', 'dict', 'set', 'OrderedDict']\n"
          ],
          "name": "stdout"
        }
      ]
    },
    {
      "cell_type": "code",
      "metadata": {
        "id": "aS1o2nmo4qvp",
        "colab": {
          "base_uri": "https://localhost:8080/"
        },
        "outputId": "5de3cb8e-438f-42f1-a226-96c68e20d4f1"
      },
      "source": [
        "collections.extend(['ponyset', 'unicorndict'])\n",
        "\n",
        "print(collections)"
      ],
      "execution_count": null,
      "outputs": [
        {
          "output_type": "stream",
          "text": [
            "['list', 'tuple', 'dict', 'set', 'OrderedDict', ['ponyset', 'unicorndict'], 'ponyset', 'unicorndict']\n"
          ],
          "name": "stdout"
        }
      ]
    },
    {
      "cell_type": "code",
      "metadata": {
        "id": "nyBqFvO54qyT",
        "colab": {
          "base_uri": "https://localhost:8080/"
        },
        "outputId": "947c4ae5-de5d-4b97-b12e-7b122f391e6f"
      },
      "source": [
        "collections += [None]\n",
        "\n",
        "print(collections)"
      ],
      "execution_count": null,
      "outputs": [
        {
          "output_type": "stream",
          "text": [
            "['list', 'tuple', 'dict', 'set', 'OrderedDict', 'ponyset', 'unicorndict', None]\n"
          ],
          "name": "stdout"
        }
      ]
    },
    {
      "cell_type": "code",
      "metadata": {
        "id": "6BNQDIRl41MJ",
        "colab": {
          "base_uri": "https://localhost:8080/"
        },
        "outputId": "85724ae8-0ea7-4887-c4a5-2e30f62720d2"
      },
      "source": [
        "del collections[4]\n",
        "\n",
        "print(collections)"
      ],
      "execution_count": null,
      "outputs": [
        {
          "output_type": "stream",
          "text": [
            "['list', 'tuple', 'dict', 'set', ['ponyset', 'unicorndict'], 'ponyset', 'unicorndict']\n"
          ],
          "name": "stdout"
        }
      ]
    },
    {
      "cell_type": "code",
      "metadata": {
        "id": "mzBJeG_X43Wh",
        "colab": {
          "base_uri": "https://localhost:8080/"
        },
        "outputId": "28402b3d-37b1-4375-e331-4c019bb4e33b"
      },
      "source": [
        "# min, max. sum\n",
        "numbers = [4, 17, 19, 9, 2, 6, 10, 13]\n",
        "\n",
        "print(min(numbers))\n",
        "print(max(numbers))\n",
        "print(sum(numbers))"
      ],
      "execution_count": null,
      "outputs": [
        {
          "output_type": "stream",
          "text": [
            "2\n",
            "19\n",
            "80\n"
          ],
          "name": "stdout"
        }
      ]
    },
    {
      "cell_type": "markdown",
      "metadata": {
        "id": "VDSAp0IfvE70"
      },
      "source": [
        "## 2. Collections: tuple"
      ]
    },
    {
      "cell_type": "code",
      "metadata": {
        "id": "ycOgHFQcvE71"
      },
      "source": [
        "empty_tuple = ()\n",
        "empty_tuple = tuple()"
      ],
      "execution_count": null,
      "outputs": []
    },
    {
      "cell_type": "code",
      "metadata": {
        "id": "QB8ZfMc5vE72"
      },
      "source": [
        "immutables = (int, str, tuple)"
      ],
      "execution_count": null,
      "outputs": []
    },
    {
      "cell_type": "code",
      "metadata": {
        "id": "Lam1qX5lvE74"
      },
      "source": [
        "one_element_tuple = (1,)\n",
        "guess_what = (1)\n",
        "\n",
        "type(guess_what)"
      ],
      "execution_count": null,
      "outputs": []
    },
    {
      "cell_type": "markdown",
      "metadata": {
        "id": "ictx1E8qvE75"
      },
      "source": [
        "## 3. Collections: dictionary\n"
      ]
    },
    {
      "cell_type": "code",
      "metadata": {
        "id": "9swkXhk35kNb"
      },
      "source": [
        "empty_dict = {}\n",
        "empty_dict = dict()\n",
        "\n",
        "collections_map = {\n",
        "    'mutable': ['list', 'set', 'dict'],\n",
        "    'immutable': ['tuple', 'frozenset']\n",
        "}"
      ],
      "execution_count": null,
      "outputs": []
    },
    {
      "cell_type": "code",
      "metadata": {
        "id": "JmwVmXL95kPy",
        "colab": {
          "base_uri": "https://localhost:8080/"
        },
        "outputId": "51b34d3d-825d-4d7c-a268-c7f765d7d34d"
      },
      "source": [
        "print(collections_map['immutable'])"
      ],
      "execution_count": null,
      "outputs": [
        {
          "output_type": "stream",
          "text": [
            "['tuple', 'frozenset']\n"
          ],
          "name": "stdout"
        }
      ]
    },
    {
      "cell_type": "code",
      "metadata": {
        "id": "tNbHlIuI5kSH",
        "colab": {
          "base_uri": "https://localhost:8080/"
        },
        "outputId": "d20e5b91-1e80-4723-adea-2d6ff8e45f1e"
      },
      "source": [
        "# add elements\n",
        "beatles_map = {\n",
        "    'Paul': 'Bass',\n",
        "    'John': 'Guitar',\n",
        "    'George': 'Guitar',\n",
        "}\n",
        "\n",
        "print(beatles_map)\n",
        "\n",
        "beatles_map['Ringo'] = 'Drums'\n",
        "\n",
        "print(beatles_map)"
      ],
      "execution_count": null,
      "outputs": [
        {
          "output_type": "stream",
          "text": [
            "{'Paul': 'Bass', 'John': 'Guitar', 'George': 'Guitar'}\n",
            "{'Paul': 'Bass', 'John': 'Guitar', 'George': 'Guitar', 'Ringo': 'Drums'}\n"
          ],
          "name": "stdout"
        }
      ]
    },
    {
      "cell_type": "code",
      "metadata": {
        "id": "PIe5iz3P5kU3",
        "colab": {
          "base_uri": "https://localhost:8080/"
        },
        "outputId": "5d0b1b72-1c61-478a-ec40-3c2592a941b5"
      },
      "source": [
        "# delete elements \n",
        "del beatles_map['John']\n",
        "\n",
        "\n",
        "print(beatles_map)"
      ],
      "execution_count": null,
      "outputs": [
        {
          "output_type": "stream",
          "text": [
            "{'Paul': 'Bass', 'George': 'Guitar', 'Ringo': 'Drums'}\n"
          ],
          "name": "stdout"
        }
      ]
    },
    {
      "cell_type": "code",
      "metadata": {
        "id": "wTuSzNW859zS",
        "colab": {
          "base_uri": "https://localhost:8080/"
        },
        "outputId": "c3b2f919-334a-4473-8f1c-efee8c7162ae"
      },
      "source": [
        "# itteration \n",
        "for key, value in beatles_map.items():\n",
        "    print('{} — {}'.format(key, value))"
      ],
      "execution_count": null,
      "outputs": [
        {
          "output_type": "stream",
          "text": [
            "Paul — Bass\n",
            "George — Guitar\n",
            "Ringo — Drums\n"
          ],
          "name": "stdout"
        }
      ]
    },
    {
      "cell_type": "markdown",
      "metadata": {
        "id": "CtEd_AEmvE76"
      },
      "source": [
        "## 4. Collections: set"
      ]
    },
    {
      "cell_type": "code",
      "metadata": {
        "id": "k0zkL6xBvE76",
        "colab": {
          "base_uri": "https://localhost:8080/"
        },
        "outputId": "5c331b16-4ae8-4640-dce4-200c294728f8"
      },
      "source": [
        "empty_set = set()\n",
        "number_set = {1, 2, 3, 3, 3, 3, 4, 5}\n",
        "\n",
        "print(number_set)"
      ],
      "execution_count": null,
      "outputs": [
        {
          "output_type": "stream",
          "text": [
            "{1, 2, 3, 4, 5}\n"
          ],
          "name": "stdout"
        }
      ]
    },
    {
      "cell_type": "code",
      "metadata": {
        "id": "x21bNkQTvE78"
      },
      "source": [
        "odd_set, odd_set = set(), set()\n",
        "\n",
        "odd_set = {1, 3, 5, 7}\n",
        "even_set = {2, 4, 6, 8}\n",
        "\n",
        "print(odd_set)\n",
        "print(even_set)\n",
        "\n",
        "union_set = odd_set | even_set\n",
        "print(union_set)\n",
        "\n",
        "intersection_set = odd_set & even_set\n",
        "print(intersection_set)\n",
        "for element in union_set:\n",
        "  print(element)"
      ],
      "execution_count": null,
      "outputs": []
    },
    {
      "cell_type": "markdown",
      "metadata": {
        "collapsed": true,
        "id": "TDPSSuigvE8N"
      },
      "source": [
        "## Where you can finde more informations about  Python"
      ]
    },
    {
      "cell_type": "markdown",
      "metadata": {
        "id": "Kgicm94WvE8O"
      },
      "source": [
        "* https://www.coursera.org/courses?query=Python\n",
        "* https://www.codeacademy.com\n",
        "* http://www.pythontutor.ru\n",
        "* http://www.learnpythonthehardway.org\n",
        "* http://snakify.org\n",
        "* https://www.checkio.org"
      ]
    },
    {
      "cell_type": "markdown",
      "metadata": {
        "id": "sk3_ozup8TcX"
      },
      "source": [
        "# Numpy"
      ]
    },
    {
      "cell_type": "markdown",
      "metadata": {
        "id": "8nTVIESs8ng2"
      },
      "source": [
        "## Numpy: arrays"
      ]
    },
    {
      "cell_type": "markdown",
      "metadata": {
        "id": "iByafSsk_W2G"
      },
      "source": [
        "### Basics "
      ]
    },
    {
      "cell_type": "code",
      "metadata": {
        "id": "hROQgEld8mzA"
      },
      "source": [
        "import numpy as np"
      ],
      "execution_count": null,
      "outputs": []
    },
    {
      "cell_type": "code",
      "metadata": {
        "id": "9ihmKrkl8yN4",
        "colab": {
          "base_uri": "https://localhost:8080/"
        },
        "outputId": "9b13437b-8898-4cbb-ab82-217280e9a760"
      },
      "source": [
        "# array\n",
        "a = np.array([1, 2, 3, 4, 5])\n",
        "print(a)"
      ],
      "execution_count": null,
      "outputs": [
        {
          "output_type": "stream",
          "text": [
            "[1 2 3 4 5]\n"
          ],
          "name": "stdout"
        }
      ]
    },
    {
      "cell_type": "code",
      "metadata": {
        "id": "XSO1K68B84xE",
        "colab": {
          "base_uri": "https://localhost:8080/"
        },
        "outputId": "3a0838be-3391-474f-af45-9e5bdaa49ead"
      },
      "source": [
        "# float type array\n",
        "b = np.array([1.5, 2.6, 3.1, 4.8, 5.0], dtype=float)\n",
        "print(b)"
      ],
      "execution_count": null,
      "outputs": [
        {
          "output_type": "stream",
          "text": [
            "[1.5 2.6 3.1 4.8 5. ]\n"
          ],
          "name": "stdout"
        }
      ]
    },
    {
      "cell_type": "code",
      "metadata": {
        "id": "KU_5dGim9cFn",
        "colab": {
          "base_uri": "https://localhost:8080/"
        },
        "outputId": "249d6a51-df79-4c32-f093-d7d8f3bcc3bb"
      },
      "source": [
        "# boolean type array\n",
        "c = np.array([True, False, True], dtype=bool)\n",
        "print(c)"
      ],
      "execution_count": null,
      "outputs": [
        {
          "output_type": "stream",
          "text": [
            "[ True False  True]\n"
          ],
          "name": "stdout"
        }
      ]
    },
    {
      "cell_type": "code",
      "metadata": {
        "id": "ZPttOVJx9gUB",
        "colab": {
          "base_uri": "https://localhost:8080/"
        },
        "outputId": "217f34ee-fe3e-4285-d3b7-bd07c7737b2c"
      },
      "source": [
        "#another way to create numpy array\n",
        "d = np.arange(start=10, stop=20, step=1) \n",
        "print(d)"
      ],
      "execution_count": null,
      "outputs": [
        {
          "output_type": "stream",
          "text": [
            "[10 11 12 13 14 15 16 17 18 19]\n"
          ],
          "name": "stdout"
        }
      ]
    },
    {
      "cell_type": "code",
      "metadata": {
        "id": "xfs_fle-90nB",
        "colab": {
          "base_uri": "https://localhost:8080/"
        },
        "outputId": "3818dc45-0b51-40a6-ab11-0f276b44a586"
      },
      "source": [
        "# numpy array is 1D \n",
        "print(c.ndim)"
      ],
      "execution_count": null,
      "outputs": [
        {
          "output_type": "stream",
          "text": [
            "1\n"
          ],
          "name": "stdout"
        }
      ]
    },
    {
      "cell_type": "code",
      "metadata": {
        "id": "5SVtxwth9_HS",
        "colab": {
          "base_uri": "https://localhost:8080/"
        },
        "outputId": "52bf637b-3921-4e0f-8dfa-0818f443be6f"
      },
      "source": [
        "# operations \n",
        "print(a)\n",
        "print(b)\n",
        "print(a + b) # sum\n",
        "print(a - b) # diff\n",
        "print(a*b)   # multiply"
      ],
      "execution_count": null,
      "outputs": [
        {
          "output_type": "stream",
          "text": [
            "[1 2 3 4 5]\n",
            "[1.5 2.6 3.1 4.8 5. ]\n",
            "[ 2.5  4.6  6.1  8.8 10. ]\n",
            "[-0.5 -0.6 -0.1 -0.8  0. ]\n",
            "[ 1.5  5.2  9.3 19.2 25. ]\n"
          ],
          "name": "stdout"
        }
      ]
    },
    {
      "cell_type": "markdown",
      "metadata": {
        "id": "DnWsfl3Z_cVM"
      },
      "source": [
        "###Norms of vector"
      ]
    },
    {
      "cell_type": "markdown",
      "metadata": {
        "id": "j49sAKTOADLz"
      },
      "source": [
        "**p-norm**\n",
        "\n",
        "Let p ≥ 1 be a real number. The \n",
        "p-norm of vector $x = (x_{1}, \\dots, x_{n}) \\in \\mathbb{R}^{n}$ is\n",
        "\n",
        "$$\n",
        "\\left\\Vert x \\right\\Vert_{p} = \\left( \\sum_{i=1}^n \\left| x_{i} \\right|^{p} \\right)^{1 / p},~p \\geq 1.\n",
        "$$\n",
        "\n",
        "For p = 1 we get the taxicab norm, for p = 2 we get the Euclidean norm"
      ]
    },
    {
      "cell_type": "code",
      "metadata": {
        "id": "bJQ3Jpfo_-dx"
      },
      "source": [
        "from numpy.linalg import norm"
      ],
      "execution_count": null,
      "outputs": []
    },
    {
      "cell_type": "markdown",
      "metadata": {
        "id": "V0dD5L3BBNhq"
      },
      "source": [
        "**Taxicab norm or Manhattan norm**\n",
        "$$\n",
        " \\left\\Vert x \\right\\Vert_{1} = \\sum_{i=1}^n \\left| x_{i} \\right|.\n",
        "$$"
      ]
    },
    {
      "cell_type": "code",
      "metadata": {
        "id": "Mo7ihd98BASc",
        "colab": {
          "base_uri": "https://localhost:8080/"
        },
        "outputId": "4f5e838f-e295-46de-c81d-8f9daa255c83"
      },
      "source": [
        "a = np.array([1, 2, -3])\n",
        "print('L1 norm of vector a: {norm}'.format(norm = norm(a, ord=1)))"
      ],
      "execution_count": null,
      "outputs": [
        {
          "output_type": "stream",
          "text": [
            "L1 norm of vector a: 6.0\n"
          ],
          "name": "stdout"
        }
      ]
    },
    {
      "cell_type": "markdown",
      "metadata": {
        "id": "pwlZQtBTCVbg"
      },
      "source": [
        "**Euclidean norm**\n",
        "$$\n",
        " \\left\\Vert x \\right\\Vert_{2} = \\sqrt{\\sum_{i=1}^n \\left( x_{i} \\right)^2}.\n",
        "$$"
      ]
    },
    {
      "cell_type": "code",
      "metadata": {
        "id": "kxrSTfT0BwDz",
        "colab": {
          "base_uri": "https://localhost:8080/"
        },
        "outputId": "cfd583d2-34eb-42ed-d40a-32b17e0e0e42"
      },
      "source": [
        "print('L2 norm of vector a: {norm}'.format(norm = norm(a, ord=2)))"
      ],
      "execution_count": null,
      "outputs": [
        {
          "output_type": "stream",
          "text": [
            "L2 norm of vector a: 3.7416573867739413\n"
          ],
          "name": "stdout"
        }
      ]
    },
    {
      "cell_type": "markdown",
      "metadata": {
        "id": "2R2RPnAtC--R"
      },
      "source": [
        "###Distance between arrays"
      ]
    },
    {
      "cell_type": "markdown",
      "metadata": {
        "id": "19d6gMx6DEcF"
      },
      "source": [
        "For two arrays $x = (x_{1}, \\dots, x_{n}) \\in \\mathbb{R}^{n}$ и $y = (y_{1}, \\dots, y_{n}) \\in \\mathbb{R}^{n}$ $\\ell_{1}$ and $\\ell_{2}$  distance is calculated as:\n",
        "$$\n",
        " \\rho_{1}\\left( x, y \\right) = \\left\\Vert x - y \\right\\Vert_{1} = \\sum_{i=1}^n \\left| x_{i} - y_{i} \\right|\n",
        "$$\n",
        "\n",
        "$$\n",
        " \\rho_{2}\\left( x, y \\right) = \\left\\Vert x - y \\right\\Vert_{2} = \n",
        " \\sqrt{\\sum_{i=1}^n \\left( x_{i} - y_{i} \\right)^2}.\n",
        "$$"
      ]
    },
    {
      "cell_type": "code",
      "metadata": {
        "id": "vEu07TKjC0Yk",
        "colab": {
          "base_uri": "https://localhost:8080/"
        },
        "outputId": "d37755c6-7a8e-4cc1-987e-2ba364070872"
      },
      "source": [
        "b = np.array([1, 246, -565])\r\n",
        "print('L1 distance between a and b: {dist}'.format(dist = norm(a - b, ord=1)))"
      ],
      "execution_count": null,
      "outputs": [
        {
          "output_type": "stream",
          "text": [
            "L1 distance between a and b: 806.0\n"
          ],
          "name": "stdout"
        }
      ]
    },
    {
      "cell_type": "code",
      "metadata": {
        "id": "KoxVtq41Dk3W",
        "colab": {
          "base_uri": "https://localhost:8080/"
        },
        "outputId": "6576c2d7-ca5f-49b6-936d-2a1ebeaa11f5"
      },
      "source": [
        "print('L2 distance between a and b: {dist}'.format(dist = norm(a - b, ord=2)))"
      ],
      "execution_count": null,
      "outputs": [
        {
          "output_type": "stream",
          "text": [
            "L2 distance between a and b: 612.6826258349424\n"
          ],
          "name": "stdout"
        }
      ]
    },
    {
      "cell_type": "markdown",
      "metadata": {
        "id": "4gW5VE90Duoa"
      },
      "source": [
        "###Scalar product"
      ]
    },
    {
      "cell_type": "markdown",
      "metadata": {
        "id": "cXmNwBXlEXNY"
      },
      "source": [
        "Scallar dot in $\\mathbb{R}^{n}$ of two vectors $x = (x_{1}, \\dots, x_{n})$ и $y = (y_{1}, \\dots, y_{n})$ is:\n",
        "\n",
        "$$\n",
        "\\langle x, y \\rangle = \\sum_{i=1}^n x_{i} y_{i}.\n",
        "$$"
      ]
    },
    {
      "cell_type": "code",
      "metadata": {
        "id": "sy4kkhS-D9cq",
        "colab": {
          "base_uri": "https://localhost:8080/"
        },
        "outputId": "35bfb79b-52bc-495c-922f-8bb42d2005e4"
      },
      "source": [
        "print('Scalar dot of a and b: {dot}'.format(dot = np.dot(a, b)))"
      ],
      "execution_count": null,
      "outputs": [
        {
          "output_type": "stream",
          "text": [
            "Scalar dot of a and b: 2188\n"
          ],
          "name": "stdout"
        }
      ]
    },
    {
      "cell_type": "code",
      "metadata": {
        "id": "K9JuBQn9EwLv",
        "colab": {
          "base_uri": "https://localhost:8080/"
        },
        "outputId": "9be8accd-a6ac-425b-969c-576b2a90301b"
      },
      "source": [
        "# another way\n",
        "print('Scalar dot of a and b: {dot}'.format(dot = a.dot(b)))"
      ],
      "execution_count": null,
      "outputs": [
        {
          "output_type": "stream",
          "text": [
            "Scalar dot of a and b: 60.2\n"
          ],
          "name": "stdout"
        }
      ]
    },
    {
      "cell_type": "markdown",
      "metadata": {
        "id": "5obT7WeGFDwc"
      },
      "source": [
        "## Numpy: matrix"
      ]
    },
    {
      "cell_type": "markdown",
      "metadata": {
        "id": "dQ5q5zH6FNhn"
      },
      "source": [
        "### Basics"
      ]
    },
    {
      "cell_type": "code",
      "metadata": {
        "id": "InOjO737FCbE"
      },
      "source": [
        "import numpy as np"
      ],
      "execution_count": null,
      "outputs": []
    },
    {
      "cell_type": "code",
      "metadata": {
        "id": "Mc6AdwveFXkX",
        "colab": {
          "base_uri": "https://localhost:8080/"
        },
        "outputId": "90a9a7fc-df8e-4312-9344-cf871a1e273f"
      },
      "source": [
        "a = np.array([[1, 2, 3], [2, 5, 6], [6, 7, 4]])\n",
        "print(a)"
      ],
      "execution_count": null,
      "outputs": [
        {
          "output_type": "stream",
          "text": [
            "[[1 2 3]\n",
            " [2 5 6]\n",
            " [6 7 4]]\n"
          ],
          "name": "stdout"
        }
      ]
    },
    {
      "cell_type": "code",
      "metadata": {
        "id": "64bo4aL9FXmr",
        "colab": {
          "base_uri": "https://localhost:8080/"
        },
        "outputId": "6a61adf3-8540-47c0-8723-fd86c5ce33fd"
      },
      "source": [
        "# more examples\n",
        "b = np.eye(5)\n",
        "print(b)"
      ],
      "execution_count": null,
      "outputs": [
        {
          "output_type": "stream",
          "text": [
            "[[1. 0. 0. 0. 0.]\n",
            " [0. 1. 0. 0. 0.]\n",
            " [0. 0. 1. 0. 0.]\n",
            " [0. 0. 0. 1. 0.]\n",
            " [0. 0. 0. 0. 1.]]\n"
          ],
          "name": "stdout"
        }
      ]
    },
    {
      "cell_type": "code",
      "metadata": {
        "id": "V7Ml_k6JFhnQ",
        "colab": {
          "base_uri": "https://localhost:8080/"
        },
        "outputId": "894d02b5-e23c-46f7-9c4b-635a9d223d7f"
      },
      "source": [
        "c = np.ones((7, 5))\n",
        "print(c)"
      ],
      "execution_count": null,
      "outputs": [
        {
          "output_type": "stream",
          "text": [
            "[[1. 1. 1. 1. 1.]\n",
            " [1. 1. 1. 1. 1.]\n",
            " [1. 1. 1. 1. 1.]\n",
            " [1. 1. 1. 1. 1.]\n",
            " [1. 1. 1. 1. 1.]\n",
            " [1. 1. 1. 1. 1.]\n",
            " [1. 1. 1. 1. 1.]]\n"
          ],
          "name": "stdout"
        }
      ]
    },
    {
      "cell_type": "code",
      "metadata": {
        "id": "R4jyYVtXFlxn",
        "colab": {
          "base_uri": "https://localhost:8080/"
        },
        "outputId": "87b4d0f2-37d3-475e-8643-2ebf002f78da"
      },
      "source": [
        "v = np.arange(0, 24, 2)\n",
        "print(v)\n",
        "d = v.reshape((3, 4))\n",
        "print(d)"
      ],
      "execution_count": null,
      "outputs": [
        {
          "output_type": "stream",
          "text": [
            "[ 0  2  4  6  8 10 12 14 16 18 20 22]\n",
            "[[ 0  2  4  6]\n",
            " [ 8 10 12 14]\n",
            " [16 18 20 22]]\n"
          ],
          "name": "stdout"
        }
      ]
    },
    {
      "cell_type": "code",
      "metadata": {
        "id": "aJefjzA0Fsq7"
      },
      "source": [
        "# indexes\n",
        "print(d)\n",
        "print(d[2, 1])\n",
        "print(d[1, :])\n",
        "print(d[:, 3])"
      ],
      "execution_count": null,
      "outputs": []
    },
    {
      "cell_type": "markdown",
      "metadata": {
        "id": "uTnUGmqHGZps"
      },
      "source": [
        "### Matrix and vectors multiplication"
      ]
    },
    {
      "cell_type": "code",
      "metadata": {
        "id": "rJMB3P2TGxJ8"
      },
      "source": [
        "a = np.array([[1, 0], [0, 1]])\n",
        "b = np.array([[4, 1], [2, 2]])\n",
        "r1 = np.dot(a, b)\n",
        "r2 = a.dot(b)"
      ],
      "execution_count": null,
      "outputs": []
    },
    {
      "cell_type": "code",
      "metadata": {
        "id": "6r7MMrXnGxMb",
        "colab": {
          "base_uri": "https://localhost:8080/"
        },
        "outputId": "d3508461-9259-4648-a8f3-4f2cc359535b"
      },
      "source": [
        "print('Matrix a:\\n', a)\n",
        "print('Matrix b:\\n', b)\n",
        "print('Multiplication, 1 method:\\n', r1)\n",
        "print('Multiplication, 2 method:\\n', r2)"
      ],
      "execution_count": null,
      "outputs": [
        {
          "output_type": "stream",
          "text": [
            "Matrix a:\n",
            " [[1 0]\n",
            " [0 1]]\n",
            "Matrix b:\n",
            " [[4 1]\n",
            " [2 2]]\n",
            "Multiplication, 1 method:\n",
            " [[4 1]\n",
            " [2 2]]\n",
            "Multiplication, 2 method:\n",
            " [[4 1]\n",
            " [2 2]]\n"
          ],
          "name": "stdout"
        }
      ]
    },
    {
      "cell_type": "code",
      "metadata": {
        "id": "beyqE1-qHJT2",
        "colab": {
          "base_uri": "https://localhost:8080/",
          "height": 181
        },
        "outputId": "da6ce329-5339-4294-d01b-a40e8f583244"
      },
      "source": [
        "c = np.array([1, 2, 3])\n",
        "r3 = b.dot(c)"
      ],
      "execution_count": null,
      "outputs": [
        {
          "output_type": "error",
          "ename": "ValueError",
          "evalue": "ignored",
          "traceback": [
            "\u001b[0;31m---------------------------------------------------------------------------\u001b[0m",
            "\u001b[0;31mValueError\u001b[0m                                Traceback (most recent call last)",
            "\u001b[0;32m<ipython-input-116-e900a3c0b5dc>\u001b[0m in \u001b[0;36m<module>\u001b[0;34m()\u001b[0m\n\u001b[1;32m      1\u001b[0m \u001b[0mc\u001b[0m \u001b[0;34m=\u001b[0m \u001b[0mnp\u001b[0m\u001b[0;34m.\u001b[0m\u001b[0marray\u001b[0m\u001b[0;34m(\u001b[0m\u001b[0;34m[\u001b[0m\u001b[0;36m1\u001b[0m\u001b[0;34m,\u001b[0m \u001b[0;36m2\u001b[0m\u001b[0;34m,\u001b[0m \u001b[0;36m3\u001b[0m\u001b[0;34m]\u001b[0m\u001b[0;34m)\u001b[0m\u001b[0;34m\u001b[0m\u001b[0;34m\u001b[0m\u001b[0m\n\u001b[0;32m----> 2\u001b[0;31m \u001b[0mr3\u001b[0m \u001b[0;34m=\u001b[0m \u001b[0mb\u001b[0m\u001b[0;34m.\u001b[0m\u001b[0mdot\u001b[0m\u001b[0;34m(\u001b[0m\u001b[0mc\u001b[0m\u001b[0;34m)\u001b[0m\u001b[0;34m\u001b[0m\u001b[0;34m\u001b[0m\u001b[0m\n\u001b[0m",
            "\u001b[0;31mValueError\u001b[0m: shapes (2,2) and (3,) not aligned: 2 (dim 1) != 3 (dim 0)"
          ]
        }
      ]
    },
    {
      "cell_type": "code",
      "metadata": {
        "id": "0Qu-0TqjHPr2"
      },
      "source": [
        "print('Matrix a:\\n', a)\n",
        "print('Vector c:\\n', c)\n",
        "print('Multiplication:\\n', r3)"
      ],
      "execution_count": null,
      "outputs": []
    },
    {
      "cell_type": "markdown",
      "metadata": {
        "id": "7qySmp6cHm3B"
      },
      "source": [
        "### Transposition"
      ]
    },
    {
      "cell_type": "code",
      "metadata": {
        "id": "QUtZ2VopHW-q"
      },
      "source": [
        "a = np.array([[1, 2], [3, 4]])\n",
        "b = np.transpose(a)\n",
        "c = a.T"
      ],
      "execution_count": null,
      "outputs": []
    },
    {
      "cell_type": "code",
      "metadata": {
        "id": "iXdbfhiEHyVR",
        "colab": {
          "base_uri": "https://localhost:8080/"
        },
        "outputId": "ee5e85d9-8227-4409-f729-8cf86ee63f72"
      },
      "source": [
        "print('Matrix a:\\n', a)\n",
        "print('Transposed matrix:\\n', b)\n",
        "print('Transposed matrix:\\n', c)"
      ],
      "execution_count": null,
      "outputs": [
        {
          "output_type": "stream",
          "text": [
            "Matrix a:\n",
            " [[1 2]\n",
            " [3 4]]\n",
            "Transposed matrix:\n",
            " [[1 3]\n",
            " [2 4]]\n",
            "Transposed matrix:\n",
            " [[1 3]\n",
            " [2 4]]\n"
          ],
          "name": "stdout"
        }
      ]
    },
    {
      "cell_type": "markdown",
      "metadata": {
        "id": "IyK3zWZTJUo7"
      },
      "source": [
        "### Determinant"
      ]
    },
    {
      "cell_type": "code",
      "metadata": {
        "id": "c07n-6-PJYM4"
      },
      "source": [
        "a = np.array([[1, 2, 1], [1, 1, 4], [2, 3, 6]], dtype=np.float32)\n",
        "det = np.linalg.det(a)"
      ],
      "execution_count": null,
      "outputs": []
    },
    {
      "cell_type": "code",
      "metadata": {
        "id": "X2zKxWe1H8Gu"
      },
      "source": [
        "print('Matrix a:\\n', a)\n",
        "print('Determinant of a:\\n', det)"
      ],
      "execution_count": null,
      "outputs": []
    },
    {
      "cell_type": "markdown",
      "metadata": {
        "id": "bPKMsOWSJmue"
      },
      "source": [
        "### Rank"
      ]
    },
    {
      "cell_type": "code",
      "metadata": {
        "id": "us01AB98JmMp"
      },
      "source": [
        "a = np.array([[1, 2, 3], [1, 1, 1], [2, 2, 2]])\n",
        "r = np.linalg.matrix_rank(a)"
      ],
      "execution_count": null,
      "outputs": []
    },
    {
      "cell_type": "code",
      "metadata": {
        "id": "5kX_eTgzb6F8"
      },
      "source": [
        "print('Matrix a:\\n', a)\n",
        "print('Rank of a:\\n', r)"
      ],
      "execution_count": null,
      "outputs": []
    },
    {
      "cell_type": "code",
      "metadata": {
        "id": "tawXZXGpb-aa"
      },
      "source": [
        "# check if systems of vectors is linearly independent\n",
        "a = np.array([1, 2, 3])\n",
        "b = np.array([1, 1, 1])\n",
        "c = np.array([2, 3, 5])\n",
        "m = np.array([a, b, c])\n",
        "\n",
        "print(np.linalg.matrix_rank(m) == m.shape[0])"
      ],
      "execution_count": null,
      "outputs": []
    },
    {
      "cell_type": "markdown",
      "metadata": {
        "id": "l2vhfbMzcvuf"
      },
      "source": [
        "### System of linear equations"
      ]
    },
    {
      "cell_type": "code",
      "metadata": {
        "id": "eCledrclchIK"
      },
      "source": [
        "a = np.array([[3, 1], [1, 2]])\n",
        "b = np.array([9, 8])\n",
        "x = np.linalg.solve(a, b)\n"
      ],
      "execution_count": null,
      "outputs": []
    },
    {
      "cell_type": "code",
      "metadata": {
        "id": "hXotSum6dMBe",
        "colab": {
          "base_uri": "https://localhost:8080/"
        },
        "outputId": "e60e0582-d576-481b-e89d-6febcf4df952"
      },
      "source": [
        "print('Matrix a:\\n', a)\n",
        "print('Matrix b:\\n', b)\n",
        "print('Solution:\\n', x)"
      ],
      "execution_count": null,
      "outputs": [
        {
          "output_type": "stream",
          "text": [
            "Matrix a:\n",
            " [[3 1]\n",
            " [1 2]]\n",
            "Matrix b:\n",
            " [9 8]\n",
            "Solution:\n",
            " [2. 3.]\n"
          ],
          "name": "stdout"
        }
      ]
    },
    {
      "cell_type": "markdown",
      "metadata": {
        "id": "sq6-S8OBdeuf"
      },
      "source": [
        "### Invertible matrix"
      ]
    },
    {
      "cell_type": "code",
      "metadata": {
        "id": "egrVtkSIdYBR"
      },
      "source": [
        "a = np.array([[1, 2, 1], [1, 1, 4], [2, 3, 6]], dtype=np.float32)\n",
        "b = np.linalg.inv(a)"
      ],
      "execution_count": null,
      "outputs": []
    },
    {
      "cell_type": "code",
      "metadata": {
        "id": "2b8obiJad3e8",
        "colab": {
          "base_uri": "https://localhost:8080/"
        },
        "outputId": "37cc688f-f4be-4650-97d6-f36e982b1e01"
      },
      "source": [
        "print('Matrix a:\\n', a)\n",
        "print('Invertible matrix b:\\n', b)\n",
        "print('Identity matrix:\\n', a.dot(b))"
      ],
      "execution_count": null,
      "outputs": [
        {
          "output_type": "stream",
          "text": [
            "Matrix a:\n",
            " [[1. 2. 1.]\n",
            " [1. 1. 4.]\n",
            " [2. 3. 6.]]\n",
            "Invertible matrix b:\n",
            " [[ 6.  9. -7.]\n",
            " [-2. -4.  3.]\n",
            " [-1. -1.  1.]]\n",
            "Identity matrix:\n",
            " [[1. 0. 0.]\n",
            " [0. 1. 0.]\n",
            " [0. 0. 1.]]\n"
          ],
          "name": "stdout"
        }
      ]
    },
    {
      "cell_type": "markdown",
      "metadata": {
        "id": "nbQYCf8MfHPc"
      },
      "source": [
        "# Pandas"
      ]
    },
    {
      "cell_type": "markdown",
      "metadata": {
        "id": "lLJXvxOYfleX"
      },
      "source": [
        "## Basics"
      ]
    },
    {
      "cell_type": "code",
      "metadata": {
        "id": "tzhflgCVeb9h"
      },
      "source": [
        "import pandas as pd"
      ],
      "execution_count": null,
      "outputs": []
    },
    {
      "cell_type": "code",
      "metadata": {
        "id": "EhyqiSfvvSjD",
        "colab": {
          "base_uri": "https://localhost:8080/"
        },
        "outputId": "6936d17b-eb63-4d8a-d063-5176e06a4b03"
      },
      "source": [
        "from google.colab import drive\n",
        "drive.mount('/content/drive/')"
      ],
      "execution_count": null,
      "outputs": [
        {
          "output_type": "stream",
          "text": [
            "Mounted at /content/drive/\n"
          ],
          "name": "stdout"
        }
      ]
    },
    {
      "cell_type": "code",
      "metadata": {
        "id": "EQ4digCYfoNh"
      },
      "source": [
        "# read csv file\n",
        "\n",
        "df = pd.read_csv('/content/drive/My Drive/Colab Notebooks/lab1/RegularSeasonCompactResults.csv')"
      ],
      "execution_count": null,
      "outputs": []
    },
    {
      "cell_type": "code",
      "metadata": {
        "id": "WSSZph86MJNb",
        "colab": {
          "base_uri": "https://localhost:8080/",
          "height": 415
        },
        "outputId": "276d08a3-d3f4-4f5a-f843-16632cd1951b"
      },
      "source": [
        "df"
      ],
      "execution_count": null,
      "outputs": [
        {
          "output_type": "execute_result",
          "data": {
            "text/html": [
              "<div>\n",
              "<style scoped>\n",
              "    .dataframe tbody tr th:only-of-type {\n",
              "        vertical-align: middle;\n",
              "    }\n",
              "\n",
              "    .dataframe tbody tr th {\n",
              "        vertical-align: top;\n",
              "    }\n",
              "\n",
              "    .dataframe thead th {\n",
              "        text-align: right;\n",
              "    }\n",
              "</style>\n",
              "<table border=\"1\" class=\"dataframe\">\n",
              "  <thead>\n",
              "    <tr style=\"text-align: right;\">\n",
              "      <th></th>\n",
              "      <th>Season</th>\n",
              "      <th>Daynum</th>\n",
              "      <th>Wteam</th>\n",
              "      <th>Wscore</th>\n",
              "      <th>Lteam</th>\n",
              "      <th>Lscore</th>\n",
              "      <th>Wloc</th>\n",
              "      <th>Numot</th>\n",
              "    </tr>\n",
              "  </thead>\n",
              "  <tbody>\n",
              "    <tr>\n",
              "      <th>0</th>\n",
              "      <td>1985</td>\n",
              "      <td>20</td>\n",
              "      <td>1228</td>\n",
              "      <td>81</td>\n",
              "      <td>1328</td>\n",
              "      <td>64</td>\n",
              "      <td>N</td>\n",
              "      <td>0</td>\n",
              "    </tr>\n",
              "    <tr>\n",
              "      <th>1</th>\n",
              "      <td>1985</td>\n",
              "      <td>25</td>\n",
              "      <td>1106</td>\n",
              "      <td>77</td>\n",
              "      <td>1354</td>\n",
              "      <td>70</td>\n",
              "      <td>H</td>\n",
              "      <td>0</td>\n",
              "    </tr>\n",
              "    <tr>\n",
              "      <th>2</th>\n",
              "      <td>1985</td>\n",
              "      <td>25</td>\n",
              "      <td>1112</td>\n",
              "      <td>63</td>\n",
              "      <td>1223</td>\n",
              "      <td>56</td>\n",
              "      <td>H</td>\n",
              "      <td>0</td>\n",
              "    </tr>\n",
              "    <tr>\n",
              "      <th>3</th>\n",
              "      <td>1985</td>\n",
              "      <td>25</td>\n",
              "      <td>1165</td>\n",
              "      <td>70</td>\n",
              "      <td>1432</td>\n",
              "      <td>54</td>\n",
              "      <td>H</td>\n",
              "      <td>0</td>\n",
              "    </tr>\n",
              "    <tr>\n",
              "      <th>4</th>\n",
              "      <td>1985</td>\n",
              "      <td>25</td>\n",
              "      <td>1192</td>\n",
              "      <td>86</td>\n",
              "      <td>1447</td>\n",
              "      <td>74</td>\n",
              "      <td>H</td>\n",
              "      <td>0</td>\n",
              "    </tr>\n",
              "    <tr>\n",
              "      <th>...</th>\n",
              "      <td>...</td>\n",
              "      <td>...</td>\n",
              "      <td>...</td>\n",
              "      <td>...</td>\n",
              "      <td>...</td>\n",
              "      <td>...</td>\n",
              "      <td>...</td>\n",
              "      <td>...</td>\n",
              "    </tr>\n",
              "    <tr>\n",
              "      <th>145284</th>\n",
              "      <td>2016</td>\n",
              "      <td>132</td>\n",
              "      <td>1114</td>\n",
              "      <td>70</td>\n",
              "      <td>1419</td>\n",
              "      <td>50</td>\n",
              "      <td>N</td>\n",
              "      <td>0</td>\n",
              "    </tr>\n",
              "    <tr>\n",
              "      <th>145285</th>\n",
              "      <td>2016</td>\n",
              "      <td>132</td>\n",
              "      <td>1163</td>\n",
              "      <td>72</td>\n",
              "      <td>1272</td>\n",
              "      <td>58</td>\n",
              "      <td>N</td>\n",
              "      <td>0</td>\n",
              "    </tr>\n",
              "    <tr>\n",
              "      <th>145286</th>\n",
              "      <td>2016</td>\n",
              "      <td>132</td>\n",
              "      <td>1246</td>\n",
              "      <td>82</td>\n",
              "      <td>1401</td>\n",
              "      <td>77</td>\n",
              "      <td>N</td>\n",
              "      <td>1</td>\n",
              "    </tr>\n",
              "    <tr>\n",
              "      <th>145287</th>\n",
              "      <td>2016</td>\n",
              "      <td>132</td>\n",
              "      <td>1277</td>\n",
              "      <td>66</td>\n",
              "      <td>1345</td>\n",
              "      <td>62</td>\n",
              "      <td>N</td>\n",
              "      <td>0</td>\n",
              "    </tr>\n",
              "    <tr>\n",
              "      <th>145288</th>\n",
              "      <td>2016</td>\n",
              "      <td>132</td>\n",
              "      <td>1386</td>\n",
              "      <td>87</td>\n",
              "      <td>1433</td>\n",
              "      <td>74</td>\n",
              "      <td>N</td>\n",
              "      <td>0</td>\n",
              "    </tr>\n",
              "  </tbody>\n",
              "</table>\n",
              "<p>145289 rows × 8 columns</p>\n",
              "</div>"
            ],
            "text/plain": [
              "        Season  Daynum  Wteam  Wscore  Lteam  Lscore Wloc  Numot\n",
              "0         1985      20   1228      81   1328      64    N      0\n",
              "1         1985      25   1106      77   1354      70    H      0\n",
              "2         1985      25   1112      63   1223      56    H      0\n",
              "3         1985      25   1165      70   1432      54    H      0\n",
              "4         1985      25   1192      86   1447      74    H      0\n",
              "...        ...     ...    ...     ...    ...     ...  ...    ...\n",
              "145284    2016     132   1114      70   1419      50    N      0\n",
              "145285    2016     132   1163      72   1272      58    N      0\n",
              "145286    2016     132   1246      82   1401      77    N      1\n",
              "145287    2016     132   1277      66   1345      62    N      0\n",
              "145288    2016     132   1386      87   1433      74    N      0\n",
              "\n",
              "[145289 rows x 8 columns]"
            ]
          },
          "metadata": {
            "tags": []
          },
          "execution_count": 63
        }
      ]
    },
    {
      "cell_type": "code",
      "metadata": {
        "id": "rEgrguWgfpyZ",
        "colab": {
          "base_uri": "https://localhost:8080/",
          "height": 355
        },
        "outputId": "ef1d4238-8977-4b98-c3a4-b473388e8294"
      },
      "source": [
        "# see the first 5 rows \n",
        "df.head(10)"
      ],
      "execution_count": null,
      "outputs": [
        {
          "output_type": "execute_result",
          "data": {
            "text/html": [
              "<div>\n",
              "<style scoped>\n",
              "    .dataframe tbody tr th:only-of-type {\n",
              "        vertical-align: middle;\n",
              "    }\n",
              "\n",
              "    .dataframe tbody tr th {\n",
              "        vertical-align: top;\n",
              "    }\n",
              "\n",
              "    .dataframe thead th {\n",
              "        text-align: right;\n",
              "    }\n",
              "</style>\n",
              "<table border=\"1\" class=\"dataframe\">\n",
              "  <thead>\n",
              "    <tr style=\"text-align: right;\">\n",
              "      <th></th>\n",
              "      <th>Season</th>\n",
              "      <th>Daynum</th>\n",
              "      <th>Wteam</th>\n",
              "      <th>Wscore</th>\n",
              "      <th>Lteam</th>\n",
              "      <th>Lscore</th>\n",
              "      <th>Wloc</th>\n",
              "      <th>Numot</th>\n",
              "    </tr>\n",
              "  </thead>\n",
              "  <tbody>\n",
              "    <tr>\n",
              "      <th>0</th>\n",
              "      <td>1985</td>\n",
              "      <td>20</td>\n",
              "      <td>1228</td>\n",
              "      <td>81</td>\n",
              "      <td>1328</td>\n",
              "      <td>64</td>\n",
              "      <td>N</td>\n",
              "      <td>0</td>\n",
              "    </tr>\n",
              "    <tr>\n",
              "      <th>1</th>\n",
              "      <td>1985</td>\n",
              "      <td>25</td>\n",
              "      <td>1106</td>\n",
              "      <td>77</td>\n",
              "      <td>1354</td>\n",
              "      <td>70</td>\n",
              "      <td>H</td>\n",
              "      <td>0</td>\n",
              "    </tr>\n",
              "    <tr>\n",
              "      <th>2</th>\n",
              "      <td>1985</td>\n",
              "      <td>25</td>\n",
              "      <td>1112</td>\n",
              "      <td>63</td>\n",
              "      <td>1223</td>\n",
              "      <td>56</td>\n",
              "      <td>H</td>\n",
              "      <td>0</td>\n",
              "    </tr>\n",
              "    <tr>\n",
              "      <th>3</th>\n",
              "      <td>1985</td>\n",
              "      <td>25</td>\n",
              "      <td>1165</td>\n",
              "      <td>70</td>\n",
              "      <td>1432</td>\n",
              "      <td>54</td>\n",
              "      <td>H</td>\n",
              "      <td>0</td>\n",
              "    </tr>\n",
              "    <tr>\n",
              "      <th>4</th>\n",
              "      <td>1985</td>\n",
              "      <td>25</td>\n",
              "      <td>1192</td>\n",
              "      <td>86</td>\n",
              "      <td>1447</td>\n",
              "      <td>74</td>\n",
              "      <td>H</td>\n",
              "      <td>0</td>\n",
              "    </tr>\n",
              "    <tr>\n",
              "      <th>5</th>\n",
              "      <td>1985</td>\n",
              "      <td>25</td>\n",
              "      <td>1218</td>\n",
              "      <td>79</td>\n",
              "      <td>1337</td>\n",
              "      <td>78</td>\n",
              "      <td>H</td>\n",
              "      <td>0</td>\n",
              "    </tr>\n",
              "    <tr>\n",
              "      <th>6</th>\n",
              "      <td>1985</td>\n",
              "      <td>25</td>\n",
              "      <td>1228</td>\n",
              "      <td>64</td>\n",
              "      <td>1226</td>\n",
              "      <td>44</td>\n",
              "      <td>N</td>\n",
              "      <td>0</td>\n",
              "    </tr>\n",
              "    <tr>\n",
              "      <th>7</th>\n",
              "      <td>1985</td>\n",
              "      <td>25</td>\n",
              "      <td>1242</td>\n",
              "      <td>58</td>\n",
              "      <td>1268</td>\n",
              "      <td>56</td>\n",
              "      <td>N</td>\n",
              "      <td>0</td>\n",
              "    </tr>\n",
              "    <tr>\n",
              "      <th>8</th>\n",
              "      <td>1985</td>\n",
              "      <td>25</td>\n",
              "      <td>1260</td>\n",
              "      <td>98</td>\n",
              "      <td>1133</td>\n",
              "      <td>80</td>\n",
              "      <td>H</td>\n",
              "      <td>0</td>\n",
              "    </tr>\n",
              "    <tr>\n",
              "      <th>9</th>\n",
              "      <td>1985</td>\n",
              "      <td>25</td>\n",
              "      <td>1305</td>\n",
              "      <td>97</td>\n",
              "      <td>1424</td>\n",
              "      <td>89</td>\n",
              "      <td>H</td>\n",
              "      <td>0</td>\n",
              "    </tr>\n",
              "  </tbody>\n",
              "</table>\n",
              "</div>"
            ],
            "text/plain": [
              "   Season  Daynum  Wteam  Wscore  Lteam  Lscore Wloc  Numot\n",
              "0    1985      20   1228      81   1328      64    N      0\n",
              "1    1985      25   1106      77   1354      70    H      0\n",
              "2    1985      25   1112      63   1223      56    H      0\n",
              "3    1985      25   1165      70   1432      54    H      0\n",
              "4    1985      25   1192      86   1447      74    H      0\n",
              "5    1985      25   1218      79   1337      78    H      0\n",
              "6    1985      25   1228      64   1226      44    N      0\n",
              "7    1985      25   1242      58   1268      56    N      0\n",
              "8    1985      25   1260      98   1133      80    H      0\n",
              "9    1985      25   1305      97   1424      89    H      0"
            ]
          },
          "metadata": {
            "tags": []
          },
          "execution_count": 66
        }
      ]
    },
    {
      "cell_type": "code",
      "metadata": {
        "id": "-6kA5BLYg45S",
        "colab": {
          "base_uri": "https://localhost:8080/",
          "height": 202
        },
        "outputId": "02ef0c71-162a-4b84-fb53-b337efa2a088"
      },
      "source": [
        "# see the last 5 rows \n",
        "df.tail(5)"
      ],
      "execution_count": null,
      "outputs": [
        {
          "output_type": "execute_result",
          "data": {
            "text/html": [
              "<div>\n",
              "<style scoped>\n",
              "    .dataframe tbody tr th:only-of-type {\n",
              "        vertical-align: middle;\n",
              "    }\n",
              "\n",
              "    .dataframe tbody tr th {\n",
              "        vertical-align: top;\n",
              "    }\n",
              "\n",
              "    .dataframe thead th {\n",
              "        text-align: right;\n",
              "    }\n",
              "</style>\n",
              "<table border=\"1\" class=\"dataframe\">\n",
              "  <thead>\n",
              "    <tr style=\"text-align: right;\">\n",
              "      <th></th>\n",
              "      <th>Season</th>\n",
              "      <th>Daynum</th>\n",
              "      <th>Wteam</th>\n",
              "      <th>Wscore</th>\n",
              "      <th>Lteam</th>\n",
              "      <th>Lscore</th>\n",
              "      <th>Wloc</th>\n",
              "      <th>Numot</th>\n",
              "    </tr>\n",
              "  </thead>\n",
              "  <tbody>\n",
              "    <tr>\n",
              "      <th>145284</th>\n",
              "      <td>2016</td>\n",
              "      <td>132</td>\n",
              "      <td>1114</td>\n",
              "      <td>70</td>\n",
              "      <td>1419</td>\n",
              "      <td>50</td>\n",
              "      <td>N</td>\n",
              "      <td>0</td>\n",
              "    </tr>\n",
              "    <tr>\n",
              "      <th>145285</th>\n",
              "      <td>2016</td>\n",
              "      <td>132</td>\n",
              "      <td>1163</td>\n",
              "      <td>72</td>\n",
              "      <td>1272</td>\n",
              "      <td>58</td>\n",
              "      <td>N</td>\n",
              "      <td>0</td>\n",
              "    </tr>\n",
              "    <tr>\n",
              "      <th>145286</th>\n",
              "      <td>2016</td>\n",
              "      <td>132</td>\n",
              "      <td>1246</td>\n",
              "      <td>82</td>\n",
              "      <td>1401</td>\n",
              "      <td>77</td>\n",
              "      <td>N</td>\n",
              "      <td>1</td>\n",
              "    </tr>\n",
              "    <tr>\n",
              "      <th>145287</th>\n",
              "      <td>2016</td>\n",
              "      <td>132</td>\n",
              "      <td>1277</td>\n",
              "      <td>66</td>\n",
              "      <td>1345</td>\n",
              "      <td>62</td>\n",
              "      <td>N</td>\n",
              "      <td>0</td>\n",
              "    </tr>\n",
              "    <tr>\n",
              "      <th>145288</th>\n",
              "      <td>2016</td>\n",
              "      <td>132</td>\n",
              "      <td>1386</td>\n",
              "      <td>87</td>\n",
              "      <td>1433</td>\n",
              "      <td>74</td>\n",
              "      <td>N</td>\n",
              "      <td>0</td>\n",
              "    </tr>\n",
              "  </tbody>\n",
              "</table>\n",
              "</div>"
            ],
            "text/plain": [
              "        Season  Daynum  Wteam  Wscore  Lteam  Lscore Wloc  Numot\n",
              "145284    2016     132   1114      70   1419      50    N      0\n",
              "145285    2016     132   1163      72   1272      58    N      0\n",
              "145286    2016     132   1246      82   1401      77    N      1\n",
              "145287    2016     132   1277      66   1345      62    N      0\n",
              "145288    2016     132   1386      87   1433      74    N      0"
            ]
          },
          "metadata": {
            "tags": []
          },
          "execution_count": 67
        }
      ]
    },
    {
      "cell_type": "code",
      "metadata": {
        "id": "76IPEFdihHvf",
        "colab": {
          "base_uri": "https://localhost:8080/",
          "height": 35
        },
        "outputId": "d3936869-ae5c-411c-9d0a-3e28808bb1a1"
      },
      "source": [
        "# see the dimensions of the dataframe \n",
        "df.shape"
      ],
      "execution_count": null,
      "outputs": [
        {
          "output_type": "execute_result",
          "data": {
            "text/plain": [
              "(145289, 8)"
            ]
          },
          "metadata": {
            "tags": []
          },
          "execution_count": 14
        }
      ]
    },
    {
      "cell_type": "code",
      "metadata": {
        "id": "lOqlB3-3hOFz",
        "colab": {
          "base_uri": "https://localhost:8080/"
        },
        "outputId": "cde2883e-d42a-4335-fd0f-5a53db31b6c1"
      },
      "source": [
        "# extract all the column names as a list\n",
        "df.columns.tolist()"
      ],
      "execution_count": null,
      "outputs": [
        {
          "output_type": "execute_result",
          "data": {
            "text/plain": [
              "['Season', 'Daynum', 'Wteam', 'Wscore', 'Lteam', 'Lscore', 'Wloc', 'Numot']"
            ]
          },
          "metadata": {
            "tags": []
          },
          "execution_count": 68
        }
      ]
    },
    {
      "cell_type": "code",
      "metadata": {
        "id": "emF_dnbXhXrm",
        "colab": {
          "base_uri": "https://localhost:8080/",
          "height": 294
        },
        "outputId": "ce231d3d-0891-473b-9160-dc05b01b1277"
      },
      "source": [
        "# see statistics like mean, min, etc about each column of the dataset\n",
        "df.describe()"
      ],
      "execution_count": null,
      "outputs": [
        {
          "output_type": "execute_result",
          "data": {
            "text/html": [
              "<div>\n",
              "<style scoped>\n",
              "    .dataframe tbody tr th:only-of-type {\n",
              "        vertical-align: middle;\n",
              "    }\n",
              "\n",
              "    .dataframe tbody tr th {\n",
              "        vertical-align: top;\n",
              "    }\n",
              "\n",
              "    .dataframe thead th {\n",
              "        text-align: right;\n",
              "    }\n",
              "</style>\n",
              "<table border=\"1\" class=\"dataframe\">\n",
              "  <thead>\n",
              "    <tr style=\"text-align: right;\">\n",
              "      <th></th>\n",
              "      <th>Season</th>\n",
              "      <th>Daynum</th>\n",
              "      <th>Wteam</th>\n",
              "      <th>Wscore</th>\n",
              "      <th>Lteam</th>\n",
              "      <th>Lscore</th>\n",
              "      <th>Numot</th>\n",
              "    </tr>\n",
              "  </thead>\n",
              "  <tbody>\n",
              "    <tr>\n",
              "      <th>count</th>\n",
              "      <td>145289.000000</td>\n",
              "      <td>145289.000000</td>\n",
              "      <td>145289.000000</td>\n",
              "      <td>145289.000000</td>\n",
              "      <td>145289.000000</td>\n",
              "      <td>145289.000000</td>\n",
              "      <td>145289.000000</td>\n",
              "    </tr>\n",
              "    <tr>\n",
              "      <th>mean</th>\n",
              "      <td>2001.574834</td>\n",
              "      <td>75.223816</td>\n",
              "      <td>1286.720646</td>\n",
              "      <td>76.600321</td>\n",
              "      <td>1282.864064</td>\n",
              "      <td>64.497009</td>\n",
              "      <td>0.044387</td>\n",
              "    </tr>\n",
              "    <tr>\n",
              "      <th>std</th>\n",
              "      <td>9.233342</td>\n",
              "      <td>33.287418</td>\n",
              "      <td>104.570275</td>\n",
              "      <td>12.173033</td>\n",
              "      <td>104.829234</td>\n",
              "      <td>11.380625</td>\n",
              "      <td>0.247819</td>\n",
              "    </tr>\n",
              "    <tr>\n",
              "      <th>min</th>\n",
              "      <td>1985.000000</td>\n",
              "      <td>0.000000</td>\n",
              "      <td>1101.000000</td>\n",
              "      <td>34.000000</td>\n",
              "      <td>1101.000000</td>\n",
              "      <td>20.000000</td>\n",
              "      <td>0.000000</td>\n",
              "    </tr>\n",
              "    <tr>\n",
              "      <th>25%</th>\n",
              "      <td>1994.000000</td>\n",
              "      <td>47.000000</td>\n",
              "      <td>1198.000000</td>\n",
              "      <td>68.000000</td>\n",
              "      <td>1191.000000</td>\n",
              "      <td>57.000000</td>\n",
              "      <td>0.000000</td>\n",
              "    </tr>\n",
              "    <tr>\n",
              "      <th>50%</th>\n",
              "      <td>2002.000000</td>\n",
              "      <td>78.000000</td>\n",
              "      <td>1284.000000</td>\n",
              "      <td>76.000000</td>\n",
              "      <td>1280.000000</td>\n",
              "      <td>64.000000</td>\n",
              "      <td>0.000000</td>\n",
              "    </tr>\n",
              "    <tr>\n",
              "      <th>75%</th>\n",
              "      <td>2010.000000</td>\n",
              "      <td>103.000000</td>\n",
              "      <td>1379.000000</td>\n",
              "      <td>84.000000</td>\n",
              "      <td>1375.000000</td>\n",
              "      <td>72.000000</td>\n",
              "      <td>0.000000</td>\n",
              "    </tr>\n",
              "    <tr>\n",
              "      <th>max</th>\n",
              "      <td>2016.000000</td>\n",
              "      <td>132.000000</td>\n",
              "      <td>1464.000000</td>\n",
              "      <td>186.000000</td>\n",
              "      <td>1464.000000</td>\n",
              "      <td>150.000000</td>\n",
              "      <td>6.000000</td>\n",
              "    </tr>\n",
              "  </tbody>\n",
              "</table>\n",
              "</div>"
            ],
            "text/plain": [
              "              Season         Daynum  ...         Lscore          Numot\n",
              "count  145289.000000  145289.000000  ...  145289.000000  145289.000000\n",
              "mean     2001.574834      75.223816  ...      64.497009       0.044387\n",
              "std         9.233342      33.287418  ...      11.380625       0.247819\n",
              "min      1985.000000       0.000000  ...      20.000000       0.000000\n",
              "25%      1994.000000      47.000000  ...      57.000000       0.000000\n",
              "50%      2002.000000      78.000000  ...      64.000000       0.000000\n",
              "75%      2010.000000     103.000000  ...      72.000000       0.000000\n",
              "max      2016.000000     132.000000  ...     150.000000       6.000000\n",
              "\n",
              "[8 rows x 7 columns]"
            ]
          },
          "metadata": {
            "tags": []
          },
          "execution_count": 16
        }
      ]
    },
    {
      "cell_type": "code",
      "metadata": {
        "id": "_9P8taY_hg9K",
        "colab": {
          "base_uri": "https://localhost:8080/"
        },
        "outputId": "789a61ce-544f-4576-ff18-b080bdc66028"
      },
      "source": [
        "# get the maximum values of all columns\n",
        "df.max()"
      ],
      "execution_count": null,
      "outputs": [
        {
          "output_type": "execute_result",
          "data": {
            "text/plain": [
              "Season    2016\n",
              "Daynum     132\n",
              "Wteam     1464\n",
              "Wscore     186\n",
              "Lteam     1464\n",
              "Lscore     150\n",
              "Wloc         N\n",
              "Numot        6\n",
              "dtype: object"
            ]
          },
          "metadata": {
            "tags": []
          },
          "execution_count": 70
        }
      ]
    },
    {
      "cell_type": "code",
      "metadata": {
        "id": "utTenVUeh6h8",
        "colab": {
          "base_uri": "https://localhost:8080/"
        },
        "outputId": "b37ee472-dc06-46eb-d4bd-6ad500472926"
      },
      "source": [
        "# get the max value for a particular column\n",
        "df['Wscore'].max() # or mean(), median(), min(), argmax()"
      ],
      "execution_count": null,
      "outputs": [
        {
          "output_type": "execute_result",
          "data": {
            "text/plain": [
              "186"
            ]
          },
          "metadata": {
            "tags": []
          },
          "execution_count": 71
        }
      ]
    },
    {
      "cell_type": "code",
      "metadata": {
        "id": "vTGjDnetiDzG",
        "colab": {
          "base_uri": "https://localhost:8080/"
        },
        "outputId": "1dd2f9a2-5071-4715-c5b0-cc155f73ab8d"
      },
      "source": [
        "# get frequency of each item in the column\n",
        "print(len(df['Wscore'].unique()))\n",
        "print(len(df['Wteam'].unique()))\n",
        "print(len(df['Season'].unique()))"
      ],
      "execution_count": null,
      "outputs": [
        {
          "output_type": "stream",
          "text": [
            "130\n",
            "364\n",
            "32\n"
          ],
          "name": "stdout"
        }
      ]
    },
    {
      "cell_type": "markdown",
      "metadata": {
        "id": "54eehlbAi0L-"
      },
      "source": [
        "## Sorting Values"
      ]
    },
    {
      "cell_type": "code",
      "metadata": {
        "id": "ubsnomqXiPnS",
        "colab": {
          "base_uri": "https://localhost:8080/",
          "height": 204
        },
        "outputId": "15686986-a47f-4f96-9423-19a400998b02"
      },
      "source": [
        "# sorting the dataframe in increasing order for the scores of the losing team\n",
        "df.sort_values('Lscore', ascending=False).head()"
      ],
      "execution_count": null,
      "outputs": [
        {
          "output_type": "execute_result",
          "data": {
            "text/html": [
              "<div>\n",
              "<style scoped>\n",
              "    .dataframe tbody tr th:only-of-type {\n",
              "        vertical-align: middle;\n",
              "    }\n",
              "\n",
              "    .dataframe tbody tr th {\n",
              "        vertical-align: top;\n",
              "    }\n",
              "\n",
              "    .dataframe thead th {\n",
              "        text-align: right;\n",
              "    }\n",
              "</style>\n",
              "<table border=\"1\" class=\"dataframe\">\n",
              "  <thead>\n",
              "    <tr style=\"text-align: right;\">\n",
              "      <th></th>\n",
              "      <th>Season</th>\n",
              "      <th>Daynum</th>\n",
              "      <th>Wteam</th>\n",
              "      <th>Wscore</th>\n",
              "      <th>Lteam</th>\n",
              "      <th>Lscore</th>\n",
              "      <th>Wloc</th>\n",
              "      <th>Numot</th>\n",
              "    </tr>\n",
              "  </thead>\n",
              "  <tbody>\n",
              "    <tr>\n",
              "      <th>17867</th>\n",
              "      <td>1989</td>\n",
              "      <td>92</td>\n",
              "      <td>1258</td>\n",
              "      <td>181</td>\n",
              "      <td>1109</td>\n",
              "      <td>150</td>\n",
              "      <td>H</td>\n",
              "      <td>0</td>\n",
              "    </tr>\n",
              "    <tr>\n",
              "      <th>16853</th>\n",
              "      <td>1989</td>\n",
              "      <td>68</td>\n",
              "      <td>1258</td>\n",
              "      <td>162</td>\n",
              "      <td>1109</td>\n",
              "      <td>144</td>\n",
              "      <td>A</td>\n",
              "      <td>0</td>\n",
              "    </tr>\n",
              "    <tr>\n",
              "      <th>22074</th>\n",
              "      <td>1990</td>\n",
              "      <td>96</td>\n",
              "      <td>1261</td>\n",
              "      <td>148</td>\n",
              "      <td>1258</td>\n",
              "      <td>141</td>\n",
              "      <td>H</td>\n",
              "      <td>0</td>\n",
              "    </tr>\n",
              "    <tr>\n",
              "      <th>24970</th>\n",
              "      <td>1991</td>\n",
              "      <td>68</td>\n",
              "      <td>1258</td>\n",
              "      <td>186</td>\n",
              "      <td>1109</td>\n",
              "      <td>140</td>\n",
              "      <td>H</td>\n",
              "      <td>0</td>\n",
              "    </tr>\n",
              "    <tr>\n",
              "      <th>1126</th>\n",
              "      <td>1985</td>\n",
              "      <td>65</td>\n",
              "      <td>1424</td>\n",
              "      <td>142</td>\n",
              "      <td>1429</td>\n",
              "      <td>140</td>\n",
              "      <td>A</td>\n",
              "      <td>0</td>\n",
              "    </tr>\n",
              "  </tbody>\n",
              "</table>\n",
              "</div>"
            ],
            "text/plain": [
              "       Season  Daynum  Wteam  Wscore  Lteam  Lscore Wloc  Numot\n",
              "17867    1989      92   1258     181   1109     150    H      0\n",
              "16853    1989      68   1258     162   1109     144    A      0\n",
              "22074    1990      96   1261     148   1258     141    H      0\n",
              "24970    1991      68   1258     186   1109     140    H      0\n",
              "1126     1985      65   1424     142   1429     140    A      0"
            ]
          },
          "metadata": {
            "tags": []
          },
          "execution_count": 123
        }
      ]
    },
    {
      "cell_type": "markdown",
      "metadata": {
        "id": "yjy1ip8rkHat"
      },
      "source": [
        "## Filtering Rows"
      ]
    },
    {
      "cell_type": "code",
      "metadata": {
        "id": "tQXvNrdti-j7",
        "colab": {
          "base_uri": "https://localhost:8080/",
          "height": 49
        },
        "outputId": "52780063-63fb-49dd-c310-7806bef84b36"
      },
      "source": [
        "# find which entries are above 150\n",
        "df[df['Lscore'] < 10].head(10)"
      ],
      "execution_count": null,
      "outputs": [
        {
          "output_type": "execute_result",
          "data": {
            "text/html": [
              "<div>\n",
              "<style scoped>\n",
              "    .dataframe tbody tr th:only-of-type {\n",
              "        vertical-align: middle;\n",
              "    }\n",
              "\n",
              "    .dataframe tbody tr th {\n",
              "        vertical-align: top;\n",
              "    }\n",
              "\n",
              "    .dataframe thead th {\n",
              "        text-align: right;\n",
              "    }\n",
              "</style>\n",
              "<table border=\"1\" class=\"dataframe\">\n",
              "  <thead>\n",
              "    <tr style=\"text-align: right;\">\n",
              "      <th></th>\n",
              "      <th>Season</th>\n",
              "      <th>Daynum</th>\n",
              "      <th>Wteam</th>\n",
              "      <th>Wscore</th>\n",
              "      <th>Lteam</th>\n",
              "      <th>Lscore</th>\n",
              "      <th>Wloc</th>\n",
              "      <th>Numot</th>\n",
              "    </tr>\n",
              "  </thead>\n",
              "  <tbody>\n",
              "  </tbody>\n",
              "</table>\n",
              "</div>"
            ],
            "text/plain": [
              "Empty DataFrame\n",
              "Columns: [Season, Daynum, Wteam, Wscore, Lteam, Lscore, Wloc, Numot]\n",
              "Index: []"
            ]
          },
          "metadata": {
            "tags": []
          },
          "execution_count": 126
        }
      ]
    },
    {
      "cell_type": "code",
      "metadata": {
        "id": "x7yU-pjKi-mp",
        "colab": {
          "base_uri": "https://localhost:8080/",
          "height": 141
        },
        "outputId": "2c309a65-96bd-4dd5-c6f2-63812fc24136"
      },
      "source": [
        "# find out when the winning team scores more than 150 points and \n",
        "# when the losing team scores below 100.\n",
        "df2 = df[(df['Wscore'] > 150) & (df['Lscore'] < 90)]\n",
        "df2"
      ],
      "execution_count": null,
      "outputs": [
        {
          "output_type": "execute_result",
          "data": {
            "text/html": [
              "<div>\n",
              "<style scoped>\n",
              "    .dataframe tbody tr th:only-of-type {\n",
              "        vertical-align: middle;\n",
              "    }\n",
              "\n",
              "    .dataframe tbody tr th {\n",
              "        vertical-align: top;\n",
              "    }\n",
              "\n",
              "    .dataframe thead th {\n",
              "        text-align: right;\n",
              "    }\n",
              "</style>\n",
              "<table border=\"1\" class=\"dataframe\">\n",
              "  <thead>\n",
              "    <tr style=\"text-align: right;\">\n",
              "      <th></th>\n",
              "      <th>Season</th>\n",
              "      <th>Daynum</th>\n",
              "      <th>Wteam</th>\n",
              "      <th>Wscore</th>\n",
              "      <th>Lteam</th>\n",
              "      <th>Lscore</th>\n",
              "      <th>Wloc</th>\n",
              "      <th>Numot</th>\n",
              "    </tr>\n",
              "  </thead>\n",
              "  <tbody>\n",
              "    <tr>\n",
              "      <th>12046</th>\n",
              "      <td>1988</td>\n",
              "      <td>40</td>\n",
              "      <td>1328</td>\n",
              "      <td>152</td>\n",
              "      <td>1147</td>\n",
              "      <td>84</td>\n",
              "      <td>H</td>\n",
              "      <td>0</td>\n",
              "    </tr>\n",
              "    <tr>\n",
              "      <th>28687</th>\n",
              "      <td>1992</td>\n",
              "      <td>54</td>\n",
              "      <td>1261</td>\n",
              "      <td>159</td>\n",
              "      <td>1319</td>\n",
              "      <td>86</td>\n",
              "      <td>H</td>\n",
              "      <td>0</td>\n",
              "    </tr>\n",
              "    <tr>\n",
              "      <th>52600</th>\n",
              "      <td>1998</td>\n",
              "      <td>33</td>\n",
              "      <td>1395</td>\n",
              "      <td>153</td>\n",
              "      <td>1410</td>\n",
              "      <td>87</td>\n",
              "      <td>H</td>\n",
              "      <td>0</td>\n",
              "    </tr>\n",
              "  </tbody>\n",
              "</table>\n",
              "</div>"
            ],
            "text/plain": [
              "       Season  Daynum  Wteam  Wscore  Lteam  Lscore Wloc  Numot\n",
              "12046    1988      40   1328     152   1147      84    H      0\n",
              "28687    1992      54   1261     159   1319      86    H      0\n",
              "52600    1998      33   1395     153   1410      87    H      0"
            ]
          },
          "metadata": {
            "tags": []
          },
          "execution_count": 77
        }
      ]
    },
    {
      "cell_type": "markdown",
      "metadata": {
        "id": "RYaBE8w9kfO8"
      },
      "source": [
        "## Grouping"
      ]
    },
    {
      "cell_type": "code",
      "metadata": {
        "id": "yqx5AW6ziFdk"
      },
      "source": [
        "df2.to_excel(\"df2.xlsx\")"
      ],
      "execution_count": null,
      "outputs": []
    },
    {
      "cell_type": "code",
      "metadata": {
        "id": "ABCOtdqri-ua",
        "colab": {
          "base_uri": "https://localhost:8080/",
          "height": 139
        },
        "outputId": "7aeaff98-0752-4918-91af-156b4505be84"
      },
      "source": [
        "# get the mean Wscore of each Wteam\n",
        "df.groupby('Wteam')['Wscore'].mean().head()"
      ],
      "execution_count": null,
      "outputs": [
        {
          "output_type": "execute_result",
          "data": {
            "text/plain": [
              "Wteam\n",
              "1101    78.111111\n",
              "1102    69.893204\n",
              "1103    75.839768\n",
              "1104    75.825944\n",
              "1105    74.960894\n",
              "Name: Wscore, dtype: float64"
            ]
          },
          "metadata": {
            "tags": []
          },
          "execution_count": 29
        }
      ]
    },
    {
      "cell_type": "code",
      "metadata": {
        "id": "TjQfMuRRkmN5",
        "colab": {
          "base_uri": "https://localhost:8080/",
          "height": 208
        },
        "outputId": "998e7cbc-bd32-42c0-86f6-c8f6e8acb653"
      },
      "source": [
        "# finds where how many times that specific team won at home, on the road, or at a neutral site\n",
        "df.groupby('Wteam')['Wloc'].value_counts().head(9)"
      ],
      "execution_count": null,
      "outputs": [
        {
          "output_type": "execute_result",
          "data": {
            "text/plain": [
              "Wteam  Wloc\n",
              "1101   H        12\n",
              "       A         3\n",
              "       N         3\n",
              "1102   H       204\n",
              "       A        73\n",
              "       N        32\n",
              "1103   H       324\n",
              "       A       153\n",
              "       N        41\n",
              "Name: Wloc, dtype: int64"
            ]
          },
          "metadata": {
            "tags": []
          },
          "execution_count": 30
        }
      ]
    },
    {
      "cell_type": "markdown",
      "metadata": {
        "id": "s_OR6UrEl3ko"
      },
      "source": [
        "## Extracting rows and columns"
      ]
    },
    {
      "cell_type": "code",
      "metadata": {
        "id": "1WbkJsAel8zg"
      },
      "source": [
        "df2 = df[['Wscore', 'Lscore']].head()"
      ],
      "execution_count": null,
      "outputs": []
    },
    {
      "cell_type": "code",
      "metadata": {
        "id": "RrvLYHqFP7a4",
        "colab": {
          "base_uri": "https://localhost:8080/",
          "height": 203
        },
        "outputId": "b4c1b3be-73a2-4f35-fa35-8152ab2afb0c"
      },
      "source": [
        "df2"
      ],
      "execution_count": null,
      "outputs": [
        {
          "output_type": "execute_result",
          "data": {
            "text/html": [
              "<div>\n",
              "<style scoped>\n",
              "    .dataframe tbody tr th:only-of-type {\n",
              "        vertical-align: middle;\n",
              "    }\n",
              "\n",
              "    .dataframe tbody tr th {\n",
              "        vertical-align: top;\n",
              "    }\n",
              "\n",
              "    .dataframe thead th {\n",
              "        text-align: right;\n",
              "    }\n",
              "</style>\n",
              "<table border=\"1\" class=\"dataframe\">\n",
              "  <thead>\n",
              "    <tr style=\"text-align: right;\">\n",
              "      <th></th>\n",
              "      <th>Wscore</th>\n",
              "      <th>Lscore</th>\n",
              "    </tr>\n",
              "  </thead>\n",
              "  <tbody>\n",
              "    <tr>\n",
              "      <th>0</th>\n",
              "      <td>81</td>\n",
              "      <td>64</td>\n",
              "    </tr>\n",
              "    <tr>\n",
              "      <th>1</th>\n",
              "      <td>77</td>\n",
              "      <td>70</td>\n",
              "    </tr>\n",
              "    <tr>\n",
              "      <th>2</th>\n",
              "      <td>63</td>\n",
              "      <td>56</td>\n",
              "    </tr>\n",
              "    <tr>\n",
              "      <th>3</th>\n",
              "      <td>70</td>\n",
              "      <td>54</td>\n",
              "    </tr>\n",
              "    <tr>\n",
              "      <th>4</th>\n",
              "      <td>86</td>\n",
              "      <td>74</td>\n",
              "    </tr>\n",
              "  </tbody>\n",
              "</table>\n",
              "</div>"
            ],
            "text/plain": [
              "   Wscore  Lscore\n",
              "0      81      64\n",
              "1      77      70\n",
              "2      63      56\n",
              "3      70      54\n",
              "4      86      74"
            ]
          },
          "metadata": {
            "tags": []
          },
          "execution_count": 80
        }
      ]
    },
    {
      "cell_type": "code",
      "metadata": {
        "id": "1rlznmyrk7bK",
        "colab": {
          "base_uri": "https://localhost:8080/"
        },
        "outputId": "337ac479-90c9-4a3f-e956-d1b425a14106"
      },
      "source": [
        "df.iloc[1:10, 1]"
      ],
      "execution_count": null,
      "outputs": [
        {
          "output_type": "execute_result",
          "data": {
            "text/plain": [
              "1    25\n",
              "2    25\n",
              "3    25\n",
              "4    25\n",
              "5    25\n",
              "6    25\n",
              "7    25\n",
              "8    25\n",
              "9    25\n",
              "Name: Daynum, dtype: int64"
            ]
          },
          "metadata": {
            "tags": []
          },
          "execution_count": 130
        }
      ]
    },
    {
      "cell_type": "code",
      "metadata": {
        "id": "XbG3SEGvP6UK"
      },
      "source": [
        ""
      ],
      "execution_count": null,
      "outputs": []
    },
    {
      "cell_type": "code",
      "metadata": {
        "id": "G4cvToVqmAGV"
      },
      "source": [
        "df[0:3]"
      ],
      "execution_count": null,
      "outputs": []
    },
    {
      "cell_type": "code",
      "metadata": {
        "id": "jcHukWkqmD6_"
      },
      "source": [
        "df.iloc[100:120,1:10]\n"
      ],
      "execution_count": null,
      "outputs": []
    },
    {
      "cell_type": "code",
      "metadata": {
        "id": "EMjCcjhznFNH"
      },
      "source": [
        ""
      ],
      "execution_count": null,
      "outputs": []
    },
    {
      "cell_type": "markdown",
      "metadata": {
        "id": "pv-jng6jmN2D"
      },
      "source": [
        "## Other resources"
      ]
    },
    {
      "cell_type": "markdown",
      "metadata": {
        "id": "WSVSXcVymLf3"
      },
      "source": [
        "Pandas has been around for a while and there are a lot of other good resources if you're still interested on getting the most out of this library.\n",
        "\n",
        "http://pandas.pydata.org/pandas-docs/stable/10min.html\n",
        "https://www.datacamp.com/community/tutorials/pandas-tutorial-dataframe-python\n",
        "http://www.gregreda.com/2013/10/26/intro-to-pandas-data-structures/\n",
        "https://www.dataquest.io/blog/pandas-python-tutorial/\n",
        "https://drive.google.com/file/d/0ByIrJAE4KMTtTUtiVExiUGVkRkE/view\n",
        "https://www.youtube.com/playlist?list=PL5-da3qGB5ICCsgW1MxlZ0Hq8LL5U3u9y"
      ]
    }
  ]
}