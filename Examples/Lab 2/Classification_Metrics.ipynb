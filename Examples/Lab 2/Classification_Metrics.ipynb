{
 "nbformat": 4,
 "nbformat_minor": 0,
 "metadata": {
  "kernelspec": {
   "display_name": "Python 3",
   "language": "python",
   "name": "python3"
  },
  "language_info": {
   "codemirror_mode": {
    "name": "ipython",
    "version": 3
   },
   "file_extension": ".py",
   "mimetype": "text/x-python",
   "name": "python",
   "nbconvert_exporter": "python",
   "pygments_lexer": "ipython3",
   "version": "3.7.0"
  },
  "colab": {
   "name": "Classification Metrics.ipynb",
   "provenance": [],
   "collapsed_sections": []
  }
 },
 "cells": [
  {
   "cell_type": "markdown",
   "metadata": {
    "id": "MnIyQWWOsgbT"
   },
   "source": [
    "# Comparison of quality metrics of binary classification"
   ]
  },
  {
   "cell_type": "code",
   "metadata": {
    "id": "Fn7C2Ta5sgbU"
   },
   "source": [
    "import numpy as np\n",
    "from matplotlib import pyplot as plt  \n",
    "import seaborn\n",
    "%matplotlib inline"
   ],
   "execution_count": 1,
   "outputs": []
  },
  {
   "cell_type": "markdown",
   "metadata": {
    "id": "LYBrzo5EsgbX"
   },
   "source": [
    "To calculate the quality metrics in supervised learning task, you need to know only two vectors: the vector of correct answers and the vector of predicted values; we will denote them actual and predicted. The actual vector is known from the training set, the predicted vector is returned by the prediction algorithm.\n",
    "\n",
    "Let's consider different prediction vectors.\n",
    "\n",
    "In our formulation, actual consists of zeros and ones, and predicted is from values ​​from the interval [0, 1] (probabilities of class 1). Such vectors are conveniently shown on the scatter plot.\n",
    "\n",
    "To make the final prediction (already binary), you need to set the threshold T: all objects that have a prediction above the threshold are assigned to class 1, the rest to class 0."
   ]
  },
  {
   "cell_type": "code",
   "metadata": {
    "id": "mT_3cwpwsgbY"
   },
   "source": [
    "# 1 scatter plot\n",
    "def scatter(actual, predicted, T):\n",
    "    plt.scatter(actual, predicted)\n",
    "    plt.xlabel(\"Labels\")\n",
    "    plt.ylabel(\"Predicted probabilities\")\n",
    "    plt.plot([-0.2, 1.2], [T, T])\n",
    "    plt.axis([-0.1, 1.1, -0.1, 1.1])\n",
    "    \n",
    "# many scatter plots\n",
    "def many_scatters(actuals, predicteds, Ts, titles, shape):\n",
    "    plt.figure(figsize=(shape[1]*5, shape[0]*5))\n",
    "    i = 1\n",
    "    for actual, predicted, T, title in zip(actuals, predicteds, Ts, titles):\n",
    "        ax = plt.subplot(shape[0], shape[1], i)\n",
    "        ax.set_title(title)\n",
    "        i += 1\n",
    "        scatter(actual, predicted, T)"
   ],
   "execution_count": 2,
   "outputs": []
  },
  {
   "cell_type": "markdown",
   "metadata": {
    "id": "SKO8oKxcsgba"
   },
   "source": [
    "Ideal situation: there is a threshold T that correctly separates the probabilities corresponding to two classes. "
   ]
  },
  {
   "cell_type": "code",
   "metadata": {
    "id": "htkbN8vBsgbb"
   },
   "source": [
    "actual_0 = np.array([ 0.,  0.,  0.,  0.,  0.,  0.,  0.,  0.,  0.,  0.,  \n",
    "          1.,  1.,  1., 1.,  1.,  1.,  1.,  1.,  1.,  1.,  1.,  1.])\n",
    "predicted_0 = np.array([ 0.19015288,  0.23872404,  0.42707312,  0.15308362,  0.2951875 ,\n",
    "            0.23475641,  0.17882447,  0.36320878,  0.33505476,  0.202608  ,\n",
    "            0.82044786,  0.69750253,  0.60272784,  0.9032949 ,  0.86949819,\n",
    "            0.97368264,  0.97289232,  0.75356512,  0.65189193,  0.95237033,\n",
    "            0.91529693,  0.8458463 ])"
   ],
   "execution_count": 3,
   "outputs": []
  },
  {
   "cell_type": "code",
   "metadata": {
    "id": "XJt39g0Lsgbd"
   },
   "source": [
    "plt.figure(figsize=(5, 5))\n",
    "scatter(actual_0, predicted_0, 0.5)"
   ],
   "execution_count": 4,
   "outputs": [
    {
     "data": {
      "text/plain": "<Figure size 360x360 with 1 Axes>",
      "image/png": "[encoded data removed]"
     },
     "metadata": {
      "needs_background": "light"
     },
     "output_type": "display_data"
    }
   ]
  },
  {
   "cell_type": "markdown",
   "metadata": {
    "id": "CuZbVGR7sgbh"
   },
   "source": [
    "The probability intervals for the two classes are perfectly separated by the threshold T = 0.5."
   ]
  },
  {
   "cell_type": "markdown",
   "metadata": {
    "id": "utePrMEMsgbh"
   },
   "source": [
    "Most often, the intervals are imposed - then you need to carefully select the threshold.\n",
    "\n",
    "The most incorrect algorithm does the opposite: it raises the probabilities of class 0 above the probabilities of class 1. If this happens, it’s worth to see if the labels 0 and 1 are not messed up when creating the target vector from raw data.\n",
    "\n",
    "Examples:"
   ]
  },
  {
   "cell_type": "code",
   "metadata": {
    "id": "Yev8oO3jsgbi"
   },
   "source": [
    "actual_1 = np.array([ 0.,  0.,  0.,  0.,  0.,  0.,  0.,  0.,  0.,  0.,  0.,  0.,  0.,\n",
    "                    0.,  0.,  1.,  1.,  1.,  1.,  1.,  1.,  1.,  1.,  1.,  1.,  1.,\n",
    "                    1.,  1.,  1.,  1.])\n",
    "predicted_1 = np.array([ 0.41310733,  0.43739138,  0.22346525,  0.46746017,  0.58251177,\n",
    "            0.38989541,  0.43634826,  0.32329726,  0.01114812,  0.41623557,\n",
    "            0.54875741,  0.48526472,  0.21747683,  0.05069586,  0.16438548,\n",
    "            0.68721238,  0.72062154,  0.90268312,  0.46486043,  0.99656541,\n",
    "            0.59919345,  0.53818659,  0.8037637 ,  0.272277  ,  0.87428626,\n",
    "            0.79721372,  0.62506539,  0.63010277,  0.35276217,  0.56775664])\n",
    "actual_2 = np.array([ 1.,  1.,  1.,  1.,  1.,  1.,  1.,  1.,  1.,  1.,  1.,  1.,  0.,\n",
    "            0.,  0.,  0.,  0.,  0.,  0.,  0.,  0.,  0.,  0.,  0.])\n",
    "predicted_2 = np.array([ 0.07058193,  0.57877375,  0.42453249,  0.56562439,  0.13372737,\n",
    "            0.18696826,  0.09037209,  0.12609756,  0.14047683,  0.06210359,\n",
    "            0.36812596,  0.22277266,  0.79974381,  0.94843878,  0.4742684 ,\n",
    "            0.80825366,  0.83569563,  0.45621915,  0.79364286,  0.82181152,\n",
    "            0.44531285,  0.65245348,  0.69884206,  0.69455127])"
   ],
   "execution_count": 5,
   "outputs": []
  },
  {
   "cell_type": "code",
   "metadata": {
    "id": "7a6AYcR2sgbk",
    "outputId": "1141774d-503c-4b54-aa2d-b6c470e78b83",
    "colab": {
     "base_uri": "https://localhost:8080/",
     "height": 350
    }
   },
   "source": [
    "many_scatters([actual_0, actual_1, actual_2], [predicted_0, predicted_1, predicted_2], \n",
    "              [0.5, 0.5, 0.5], [\"Perfect\", \"Typical\", \"Awful algorithm\"], (1, 3))"
   ],
   "execution_count": 6,
   "outputs": [
    {
     "data": {
      "text/plain": "<Figure size 1080x360 with 3 Axes>",
      "image/png": "[encoded data removed]"
     },
     "metadata": {
      "needs_background": "light"
     },
     "output_type": "display_data"
    }
   ]
  },
  {
   "cell_type": "markdown",
   "metadata": {
    "id": "C5TViiKJsgbn"
   },
   "source": [
    "The algorithm can be cautious and strive not to strongly deviate the probabilities from 0.5, and it can take the risk of making the predictions close to zero or one."
   ]
  },
  {
   "cell_type": "code",
   "metadata": {
    "id": "gmAaAeIfsgbn"
   },
   "source": [
    "# risky ideal\n",
    "actual_0r = np.array([ 0.,  0.,  0.,  0.,  0.,  0.,  0.,  0.,  0.,  0.,  0.,  1.,  1.,\n",
    "            1.,  1.,  1.,  1.,  1.,  1.,  1.,  1.,  1.,  1.,  1.])\n",
    "predicted_0r = np.array([ 0.23563765,  0.16685597,  0.13718058,  0.35905335,  0.18498365,\n",
    "            0.20730027,  0.14833803,  0.18841647,  0.01205882,  0.0101424 ,\n",
    "            0.10170538,  0.94552901,  0.72007506,  0.75186747,  0.85893269,\n",
    "            0.90517219,  0.97667347,  0.86346504,  0.72267683,  0.9130444 ,\n",
    "            0.8319242 ,  0.9578879 ,  0.89448939,  0.76379055])\n",
    "# risky good\n",
    "actual_1r = np.array([ 0.,  0.,  0.,  0.,  0.,  0.,  0.,  0.,  0.,  0.,  0.,  0.,  1.,\n",
    "            1.,  1.,  1.,  1.,  1.,  1.,  1.,  1.,  1.,  1.,  1.,  1.,  1.])\n",
    "predicted_1r = np.array([ 0.13832748,  0.0814398 ,  0.16136633,  0.11766141,  0.31784942,\n",
    "            0.14886991,  0.22664977,  0.07735617,  0.07071879,  0.92146468,\n",
    "            0.87579938,  0.97561838,  0.75638872,  0.89900957,  0.93760969,\n",
    "            0.92708013,  0.82003675,  0.85833438,  0.67371118,  0.82115125,\n",
    "            0.87560984,  0.77832734,  0.7593189,  0.81615662,  0.11906964,\n",
    "            0.18857729])"
   ],
   "execution_count": 7,
   "outputs": []
  },
  {
   "cell_type": "code",
   "metadata": {
    "id": "2-bSYmZysgbq",
    "outputId": "3a1f2179-b46d-48d8-beba-b60364b40027",
    "colab": {
     "base_uri": "https://localhost:8080/",
     "height": 621
    }
   },
   "source": [
    "many_scatters([actual_0, actual_1, actual_0r, actual_1r], \n",
    "              [predicted_0, predicted_1, predicted_0r, predicted_1r], \n",
    "              [0.5, 0.5, 0.5, 0.5],\n",
    "              [\"Perfect careful\", \"Typical careful\", \"Perfect risky\", \"Typical risky\"], \n",
    "              (2, 2))"
   ],
   "execution_count": 8,
   "outputs": [
    {
     "data": {
      "text/plain": "<Figure size 720x720 with 4 Axes>",
      "image/png": "[encoded data removed]"
     },
     "metadata": {
      "needs_background": "light"
     },
     "output_type": "display_data"
    }
   ]
  },
  {
   "cell_type": "markdown",
   "metadata": {
    "id": "E2fWTt5qsgbs"
   },
   "source": [
    "Intervals can be shifted. If the algorithm is afraid of false-positive errors, then it will often make predictions close to zero.\n",
    "Similarly, to avoid false negative errors, it is logical to more often predict high probabilities."
   ]
  },
  {
   "cell_type": "code",
   "metadata": {
    "id": "kuC65zqrsgbs"
   },
   "source": [
    "actual_10 = np.array([ 0.,  0.,  0.,  0.,  0.,  0.,  0.,  0.,  0.,  0.,  0.,  0.,  0.,\n",
    "                0.,  1.,  1.,  1.,  1.,  1.,  1.,  1.,  1.,  1.,  1.,  1.,  1.,\n",
    "                1.,  1.,  1.])\n",
    "predicted_10 = np.array([ 0.29340574, 0.47340035,  0.1580356 ,  0.29996772,  0.24115457,  0.16177793,\n",
    "                         0.35552878,  0.18867804,  0.38141962,  0.20367392,  0.26418924, 0.16289102, \n",
    "                         0.27774892,  0.32013135,  0.13453541, 0.39478755,  0.96625033,  0.47683139,  \n",
    "                         0.51221325,  0.48938235, 0.57092593,  0.21856972,  0.62773859,  0.90454639,  0.19406537,\n",
    "                         0.32063043,  0.4545493 ,  0.57574841,  0.55847795 ])\n",
    "actual_11 = np.array([ 0.,  0.,  0.,  0.,  0.,  0.,  0.,  0.,  0.,  0.,  0.,  0.,  0.,\n",
    "                0.,  1.,  1.,  1.,  1.,  1.,  1.,  1.,  1.,  1.,  1.,  1.,  1.,  1.])\n",
    "predicted_11 = np.array([ 0.35929566, 0.61562123,  0.71974688,  0.24893298,  0.19056711,  0.89308488,\n",
    "            0.71155538,  0.00903258,  0.51950535,  0.72153302,  0.45936068,  0.20197229,  0.67092724,\n",
    "                         0.81111343,  0.65359427,  0.70044585,  0.61983513,  0.84716577,  0.8512387 ,  \n",
    "                         0.86023125,  0.7659328 ,  0.70362246,  0.70127618,  0.8578749 ,  0.83641841,  \n",
    "                         0.62959491,  0.90445368])"
   ],
   "execution_count": 9,
   "outputs": []
  },
  {
   "cell_type": "code",
   "metadata": {
    "id": "XQX3QeI8sgbv",
    "outputId": "4190b6e2-63e5-4b02-d57c-3c441eee7242",
    "colab": {
     "base_uri": "https://localhost:8080/",
     "height": 350
    }
   },
   "source": [
    "many_scatters([actual_1, actual_10, actual_11], [predicted_1, predicted_10, predicted_11], \n",
    "              [0.5, 0.5, 0.5], [\"Typical\", \"Avoids FP\", \"Avoids FN\"], (1, 3))"
   ],
   "execution_count": 10,
   "outputs": [
    {
     "data": {
      "text/plain": "<Figure size 1080x360 with 3 Axes>",
      "image/png": "[encoded data removed]"
     },
     "metadata": {
      "needs_background": "light"
     },
     "output_type": "display_data"
    }
   ]
  },
  {
   "cell_type": "markdown",
   "metadata": {
    "id": "WTWgEmwnsgbx"
   },
   "source": [
    "### Metrics that evaluate binary prediction vectors"
   ]
  },
  {
   "cell_type": "markdown",
   "metadata": {
    "id": "HyS_9LRbsgby"
   },
   "source": [
    ""
   ]
  },
  {
   "cell_type": "markdown",
   "metadata": {
    "id": "6jUJfaNasgby"
   },
   "source": [
    "#### Precision and recall; accuracy"
   ]
  },
  {
   "cell_type": "code",
   "source": [
    "from google.colab import drive\n",
    "drive.mount('/content/drive/')"
   ],
   "metadata": {
    "colab": {
     "base_uri": "https://localhost:8080/"
    },
    "id": "FXUXdowf9SMg",
    "outputId": "7c42bbee-dd0d-41bf-b9fe-ab94d20ee7fc"
   },
   "execution_count": 11,
   "outputs": [
    {
     "ename": "ModuleNotFoundError",
     "evalue": "No module named 'google'",
     "output_type": "error",
     "traceback": [
      "\u001B[1;31m---------------------------------------------------------------------------\u001B[0m",
      "\u001B[1;31mModuleNotFoundError\u001B[0m                       Traceback (most recent call last)",
      "Input \u001B[1;32mIn [11]\u001B[0m, in \u001B[0;36m<module>\u001B[1;34m\u001B[0m\n\u001B[1;32m----> 1\u001B[0m \u001B[38;5;28;01mfrom\u001B[39;00m \u001B[38;5;21;01mgoogle\u001B[39;00m\u001B[38;5;21;01m.\u001B[39;00m\u001B[38;5;21;01mcolab\u001B[39;00m \u001B[38;5;28;01mimport\u001B[39;00m drive\n\u001B[0;32m      2\u001B[0m drive\u001B[38;5;241m.\u001B[39mmount(\u001B[38;5;124m'\u001B[39m\u001B[38;5;124m/content/drive/\u001B[39m\u001B[38;5;124m'\u001B[39m)\n",
      "\u001B[1;31mModuleNotFoundError\u001B[0m: No module named 'google'"
     ]
    }
   ]
  },
  {
   "cell_type": "code",
   "source": [
    "%%html\n",
    "<iframe src=\"https://drive.google.com/file/d/1pGsAUcaq6o18lxgTQdHpnAEVF4pMPKsa/preview\" width=\"640\" height=\"480\" allow=\"autoplay\"></iframe>"
   ],
   "metadata": {
    "colab": {
     "base_uri": "https://localhost:8080/",
     "height": 505
    },
    "id": "lFcj7DFv_HA9",
    "outputId": "e27e7f26-b3cb-4bbe-9a52-e5f966f0f79a"
   },
   "execution_count": null,
   "outputs": []
  },
  {
   "cell_type": "code",
   "source": [
    "!(https://miro.medium.com/max/1838/1*btcfBuM5Eqqc6rJ3iw3sNQ.png)"
   ],
   "metadata": {
    "id": "0EJiJ3Bg81Sj"
   },
   "execution_count": null,
   "outputs": []
  },
  {
   "cell_type": "markdown",
   "metadata": {
    "id": "UCxgPnW8sgby"
   },
   "source": [
    "They evaluate the quality after binarization by the threshold T, that is, comparing two binary vectors: actual and predicted."
   ]
  },
  {
   "cell_type": "markdown",
   "metadata": {
    "id": "USTC2PJRsgb0"
   },
   "source": [
    "Two popular metrics are precision and recall. The first shows how often the algorithm predicts class 1 and turns out to be right, and the second shows how many objects of class 1 the algorithm has found.\n",
    "\n",
    "Also consider the most simple and well-known metric - accuracy; it shows the proportion of correct answers.\n"
   ]
  },
  {
   "cell_type": "code",
   "metadata": {
    "id": "BqDKUlPusgb0"
   },
   "source": [
    "from sklearn.metrics import precision_score, recall_score, accuracy_score"
   ],
   "execution_count": 12,
   "outputs": []
  },
  {
   "cell_type": "code",
   "metadata": {
    "id": "rfqUOxhfsgb3",
    "outputId": "0a80aecf-a2f2-499a-ba42-5d20da059217",
    "colab": {
     "base_uri": "https://localhost:8080/"
    }
   },
   "source": [
    "T = 0.5\n",
    "print (\"Different quality algs:\")\n",
    "for actual, predicted, descr in zip([actual_0, actual_1, actual_2], \n",
    "                                    [predicted_0 > T, predicted_1 > T, predicted_2 > T],\n",
    "                                    [\"Perfect:\", \"Typical:\", \"Awful:\"]):\n",
    "    print (descr, \"precision =\", precision_score(actual, predicted), \"recall =\", \\\n",
    "        recall_score(actual, predicted), \";\",\\\n",
    "        \"accuracy =\", accuracy_score(actual, predicted))\n",
    "print()\n",
    "print (\"Risky and careful:\")\n",
    "for actual, predicted, descr in zip([actual_1, actual_1r], \n",
    "                                    [predicted_1 > T, predicted_1r > T],\n",
    "                                    [\"Typical careful:\", \"Typical risky:\"]):\n",
    "    print (descr, \"precision =\", precision_score(actual, predicted), \"recall =\", \\\n",
    "        recall_score(actual, predicted), \";\",\\\n",
    "        \"accuracy =\", accuracy_score(actual, predicted))\n",
    "print()\n",
    "print (\"Different sensitivity to FP и FN:\")\n",
    "for actual, predicted, descr in zip([actual_10, actual_11], \n",
    "                                    [predicted_10 > T, predicted_11 > T], \n",
    "                                    [\"Avoids FP:\", \"Avoids FN:\"]):\n",
    "    print (descr, \"precision =\", precision_score(actual, predicted), \"recall =\", \\\n",
    "        recall_score(actual, predicted), \";\",\\\n",
    "        \"accuracy =\", accuracy_score(actual, predicted))"
   ],
   "execution_count": 13,
   "outputs": [
    {
     "name": "stdout",
     "output_type": "stream",
     "text": [
      "Different quality algs:\n",
      "Perfect: precision = 1.0 recall = 1.0 ; accuracy = 1.0\n",
      "Typical: precision = 0.8571428571428571 recall = 0.8 ; accuracy = 0.8333333333333334\n",
      "Awful: precision = 0.18181818181818182 recall = 0.16666666666666666 ; accuracy = 0.20833333333333334\n",
      "\n",
      "Risky and careful:\n",
      "Typical careful: precision = 0.8571428571428571 recall = 0.8 ; accuracy = 0.8333333333333334\n",
      "Typical risky: precision = 0.8 recall = 0.8571428571428571 ; accuracy = 0.8076923076923077\n",
      "\n",
      "Different sensitivity to FP и FN:\n",
      "Avoids FP: precision = 1.0 recall = 0.4666666666666667 ; accuracy = 0.7241379310344828\n",
      "Avoids FN: precision = 0.6190476190476191 recall = 1.0 ; accuracy = 0.7037037037037037\n"
     ]
    }
   ]
  },
  {
   "cell_type": "markdown",
   "metadata": {
    "id": "5y-3HY3msgb5"
   },
   "source": [
    "All three metrics easily distinguish simple cases of good and bad algorithms. Note that metrics have a range of [0, 1], and therefore they are easy to interpret.\n",
    "\n",
    "The metrics do not care about the values ​​of probabilities, they only care about how many objects went wrong beyond the set limit (in this case, T = 0.5).\n",
    "\n",
    "The accuracy metric gives the same weight to false positive and false negative errors, but a pair of precision and recall metrics uniquely identifies this difference. Actually, they are used in order to control the errors of FP and FN.\n",
    "\n",
    "We measured three metrics, fixing the threshold T = 0.5, because it seems optimal for almost all pictures. Let's look at the last (most interesting for these metrics) group of vectors, how precision and recall change as the threshold increases."
   ]
  },
  {
   "cell_type": "code",
   "metadata": {
    "id": "bA8dDJCbsgb6"
   },
   "source": [
    "from sklearn.metrics import precision_recall_curve"
   ],
   "execution_count": 14,
   "outputs": []
  },
  {
   "cell_type": "code",
   "metadata": {
    "id": "L0VxUJNysgb8",
    "outputId": "16b28b6c-2cc0-4a4f-f9df-629e12c7dcf5",
    "colab": {
     "base_uri": "https://localhost:8080/",
     "height": 350
    }
   },
   "source": [
    "precs = []\n",
    "recs = []\n",
    "threshs = []\n",
    "labels = [\"Typical\", \"Avoids FP\", \"Avoids FN\"]\n",
    "for actual, predicted in zip([actual_1, actual_10, actual_11], \n",
    "                                    [predicted_1, predicted_10, predicted_11]):\n",
    "    prec, rec, thresh = precision_recall_curve(actual, predicted)\n",
    "    precs.append(prec)\n",
    "    recs.append(rec)\n",
    "    threshs.append(thresh)\n",
    "plt.figure(figsize=(15, 5))\n",
    "for i in range(3):\n",
    "    ax = plt.subplot(1, 3, i+1)\n",
    "    plt.plot(threshs[i], precs[i][:-1], label=\"precision\")\n",
    "    plt.plot(threshs[i], recs[i][:-1], label=\"recall\")\n",
    "    plt.xlabel(\"threshold\")\n",
    "    ax.set_title(labels[i])\n",
    "    plt.legend()"
   ],
   "execution_count": 15,
   "outputs": [
    {
     "data": {
      "text/plain": "<Figure size 1080x360 with 3 Axes>",
      "image/png": "[encoded data removed]"
     },
     "metadata": {
      "needs_background": "light"
     },
     "output_type": "display_data"
    }
   ]
  },
  {
   "cell_type": "markdown",
   "metadata": {
    "id": "tS0kDE5Asgb-"
   },
   "source": [
    "As the threshold increases, we make fewer FP errors and more FN errors, so one of the curves increases, and the second falls. According to this schedule, you can choose the optimal threshold value at which precision and recall will be acceptable. If there is no such threshold, you need to train another algorithm.\n",
    "\n",
    "Let's say that the acceptable values ​​of precision and recall are determined by the subject area. For example, in the task of determining whether a patient is ill with a particular disease (0 is healthy, 1 is sick), false negative errors are avoided by requiring recall of about 0.9. You can tell a person that he is sick, and with further diagnostics to identify an error; much worse to miss the presence of the disease."
   ]
  },
  {
   "cell_type": "markdown",
   "metadata": {
    "id": "elcd7ATMsgb_"
   },
   "source": [
    "#### F1-score"
   ]
  },
  {
   "cell_type": "markdown",
   "metadata": {
    "id": "w_BMT_vJsgb_"
   },
   "source": [
    "The obvious disadvantage of a pair of precision-recall metrics is that there are two of them: it’s not clear how to compare the algorithms. To avoid this, use the F1-metric, which is equal to the average harmonic precision and recall.\n",
    "The F1 metric will be equal to 1 if and only if precision = 1 and recall = 1 (the ideal algorithm).\n",
    "\n",
    "It is difficult to deceive F1: if one of the quantities is small and the other is close to 1 (graphs show that such a ratio is sometimes easy to get), F1 will be far from 1. F1-metric is difficult to optimize, because for this you need to achieve high completeness and accuracy at the same time.\n",
    "\n",
    "For example, let's calculate F1 for the same set of vectors for which we built graphs (we remember that there one of the curves quickly goes to unity)"
   ]
  },
  {
   "cell_type": "code",
   "metadata": {
    "id": "lMs_Rz3xsgcA"
   },
   "source": [
    "from sklearn.metrics import f1_score"
   ],
   "execution_count": 16,
   "outputs": []
  },
  {
   "cell_type": "code",
   "metadata": {
    "id": "rrsXsitfsgcC"
   },
   "source": [
    "T = 0.5\n",
    "print (\"Different sensitivity to FP и FN:\")\n",
    "for actual, predicted, descr in zip([actual_1, actual_10, actual_11], \n",
    "                                    [predicted_1 > T, predicted_10 > T, predicted_11 > T], \n",
    "                                    [\"Typical:\", \"Avoids FP:\", \"Avoids FN:\"]):\n",
    "    print (descr, \"f1 =\", f1_score(actual, predicted))"
   ],
   "execution_count": 17,
   "outputs": [
    {
     "name": "stdout",
     "output_type": "stream",
     "text": [
      "Different sensitivity to FP и FN:\n",
      "Typical: f1 = 0.8275862068965518\n",
      "Avoids FP: f1 = 0.6363636363636364\n",
      "Avoids FN: f1 = 0.7647058823529412\n"
     ]
    }
   ]
  },
  {
   "cell_type": "markdown",
   "metadata": {
    "id": "kKWkvoGdsgcE"
   },
   "source": [
    "The F1-metric in the last two cases, when one of the paired metrics is equal to 1, is significantly less than in the first balanced case."
   ]
  },
  {
   "cell_type": "markdown",
   "metadata": {
    "id": "psbgYtXksgcE"
   },
   "source": [
    "### Metrics estimating probability vectors of class 1"
   ]
  },
  {
   "cell_type": "markdown",
   "metadata": {
    "id": "2RskWuQJsgcE"
   },
   "source": [
    "These metrics are convenient to interpret, but when using them we do not take into account most of the information obtained from the algorithm. In some tasks, probabilities are needed in a pure form, for example, if we predict whether a team will win in a football match, and the probability value affects the size of the stake for this team. Even if in the end we still binarize the prediction, I want to follow the character of the probability vector."
   ]
  },
  {
   "cell_type": "markdown",
   "metadata": {
    "id": "DN1fu6k5sgcF"
   },
   "source": [
    "#### Log_loss"
   ]
  },
  {
   "cell_type": "markdown",
   "metadata": {
    "id": "Yqyr1OSMsgcF"
   },
   "source": [
    "Log_loss calculates the likelihood of the labels in actual with the probabilities from predicted, taken with the opposite sign:\n",
    "\n",
    "$ log\\_loss (actual, predicted) = - \\frac 1 n \\sum_ {i = 1} ^ n (actual_i \\cdot \\log (predicted_i) + (1-actual_i) \\cdot \\log (1-predicted_i)) $ , $ n $ is the length of vectors.\n",
    "\n",
    "Accordingly, this metric needs to be minimized."
   ]
  },
  {
   "cell_type": "markdown",
   "metadata": {
    "id": "62XncCo_sgcG"
   },
   "source": [
    "Let's calculate it on our vectors:"
   ]
  },
  {
   "cell_type": "code",
   "metadata": {
    "id": "vaZSupLksgcG"
   },
   "source": [
    "from sklearn.metrics import log_loss"
   ],
   "execution_count": 18,
   "outputs": []
  },
  {
   "cell_type": "code",
   "metadata": {
    "id": "qFqg6hzysgcI"
   },
   "source": [
    "print (\"Different quality algs:\")\n",
    "for actual, predicted, descr in zip([actual_0, actual_1, actual_2], \n",
    "                                    [predicted_0, predicted_1, predicted_2],\n",
    "                                    [\"Perfect:\", \"Typical:\", \"Awful:\"]):\n",
    "    print (descr, log_loss(actual, predicted))\n",
    "print()\n",
    "print (\"Risky and careful:\")\n",
    "for actual, predicted, descr in zip([actual_0, actual_0r, actual_1, actual_1r], \n",
    "                                    [predicted_0, predicted_0r, predicted_1, predicted_1r],\n",
    "                                    [\"Ideal careful\", \"Ideal risky\", \"Typical careful:\", \"Typical risky:\"]):\n",
    "    print (descr, log_loss(actual, predicted))\n",
    "print()\n",
    "print (\"Different sensitivity to FP и FN:\")\n",
    "for actual, predicted, descr in zip([actual_10, actual_11], \n",
    "                                    [predicted_10, predicted_11], \n",
    "                                    [\"Avoids FP:\", \"Avoids FN:\"]):\n",
    "    print (descr, log_loss(actual, predicted))"
   ],
   "execution_count": 19,
   "outputs": [
    {
     "name": "stdout",
     "output_type": "stream",
     "text": [
      "Different quality algs:\n",
      "Perfect: 0.24921263759186213\n",
      "Typical: 0.4645068222557676\n",
      "Awful: 1.5270248809234201\n",
      "\n",
      "Risky and careful:\n",
      "Ideal careful 0.24921263759186213\n",
      "Ideal risky 0.17061947914666056\n",
      "Typical careful: 0.4645068222557676\n",
      "Typical risky: 0.6138745922344455\n",
      "\n",
      "Different sensitivity to FP и FN:\n",
      "Avoids FP: 0.5849339709893446\n",
      "Avoids FN: 0.5886791288814904\n"
     ]
    }
   ]
  },
  {
   "cell_type": "markdown",
   "metadata": {
    "id": "RW-rN5zVsgcK"
   },
   "source": [
    "Like the previous metrics, log_loss distinguishes between perfect, typical and bad cases well. But note that it is quite difficult to interpret the value: the metric does not reach zero and never has an upper limit. Therefore, even for an ideal algorithm, if you look at only one value of log_loss, it is impossible to understand that it is perfect.\n",
    "\n",
    "But this metric distinguishes between careful and risky algorithms. As we saw above, in the cases of Typical careful and Typical risky the number of errors in binarization at T = 0.5 is about the same, in cases of Ideal there are no errors at all. However, for the unsuccessfully guessed classes in Typical, the risky algorithm has to pay a large increase in log_loss than a cautious algorithm. On the other hand, for successfully guessed classes, the risky perfect algorithm gets less log_loss than a careful perfect algorithm.\n",
    "\n",
    "Thus, log_loss is sensitive to both probabilities close to 0 and 1, and probabilities close to 0.5.\n",
    "\n",
    "FP and FN errors cannot be distinguished by ordinary Log_loss."
   ]
  },
  {
   "cell_type": "markdown",
   "metadata": {
    "id": "JWamQ2pjsgcM"
   },
   "source": [
    "However, it is not difficult to make a generalization of log_loss to the case when it is necessary to penalize FP or FN more: for this, it suffices to add a convex (that is, non-negative and summing to unity) combination of two coefficients to the likelihood term. For example, let's penalize false positive:\n",
    "\n",
    "$ weighted\\_log\\_loss (actual, predicted) = - \\frac 1 n \\sum_ {i = 1} ^ n (0.3 \\, \\cdot actual_i \\cdot \\log (predicted_i) + 0.7 \\, \\cdot (1-actual_i ) \\cdot \\log (1-predicted_i)) $\n",
    "\n",
    "If the algorithm incorrectly predicts a high probability of the first class, that is, the object actually belongs to class 0, then the first term in parentheses is zero, and the second is taken into account with greater weight. "
   ]
  },
  {
   "cell_type": "markdown",
   "metadata": {
    "id": "O2Meer0lsgcN"
   },
   "source": [
    "#### ROC and AUC"
   ]
  },
  {
   "cell_type": "markdown",
   "metadata": {
    "id": "S1lnMWkdsgcN"
   },
   "source": [
    "When constructing the ROC curve (receiver operating characteristic), the binarization threshold of the probability vector is varied, and values ​​depending on the number of errors FP and FN are calculated. These values ​​are set so that in the case when there is a threshold for an ideal separation of classes, the ROC curve passes through a certain point - the upper left corner of the square [0, 1] x [0, 1]. In addition, it always passes through the lower left and upper right corners. It turns out visual visualization of the quality of the algorithm. In order to characterize this visualization numerically, we introduced the concept of AUC - the area under the ROC curve.\n"
   ]
  },
  {
   "cell_type": "markdown",
   "metadata": {
    "id": "B0CF-kEWsgcO"
   },
   "source": [
    "Let's build ROC curves for our tasks:"
   ]
  },
  {
   "cell_type": "code",
   "metadata": {
    "id": "glV7p3U1sgcO"
   },
   "source": [
    "from sklearn.metrics import roc_curve, roc_auc_score"
   ],
   "execution_count": 20,
   "outputs": []
  },
  {
   "cell_type": "code",
   "metadata": {
    "id": "SFDT8q-psgcR"
   },
   "source": [
    "plt.figure(figsize=(15, 5))\n",
    "plt.subplot(1, 3, 1)\n",
    "aucs = \"\"\n",
    "for actual, predicted, descr in zip([actual_0, actual_1, actual_2], \n",
    "                                    [predicted_0, predicted_1, predicted_2],\n",
    "                                    [\"Perfect\", \"Typical\", \"Awful\"]):\n",
    "    fpr, tpr, thr = roc_curve(actual, predicted)\n",
    "    plt.plot(fpr, tpr, label=descr)\n",
    "    aucs += descr + \":%3f\"%roc_auc_score(actual, predicted) + \" \"\n",
    "plt.xlabel(\"false positive rate\")\n",
    "plt.ylabel(\"true positive rate\")\n",
    "plt.legend(loc=4)\n",
    "plt.axis([-0.1, 1.1, -0.1, 1.1])\n",
    "plt.subplot(1, 3, 2)\n",
    "for actual, predicted, descr in zip([actual_0, actual_0r, actual_1, actual_1r], \n",
    "                                    [predicted_0, predicted_0r, predicted_1, predicted_1r],\n",
    "                                    [\"Ideal careful\", \"Ideal Risky\", \"Typical careful\", \"Typical risky\"]):\n",
    "    fpr, tpr, thr = roc_curve(actual, predicted)\n",
    "    aucs += descr + \":%3f\"%roc_auc_score(actual, predicted) + \" \"\n",
    "    plt.plot(fpr, tpr, label=descr)\n",
    "plt.xlabel(\"false positive rate\")\n",
    "plt.ylabel(\"true positive rate\")\n",
    "plt.legend(loc=4)\n",
    "plt.axis([-0.1, 1.1, -0.1, 1.1])\n",
    "plt.subplot(1, 3, 3)\n",
    "for actual, predicted, descr in zip([actual_1, actual_10, actual_11], \n",
    "                                    [predicted_1, predicted_10, predicted_11], \n",
    "                                    [\"Typical\", \"Avoids FP\", \"Avoids FN\"]):\n",
    "    fpr, tpr, thr = roc_curve(actual, predicted)\n",
    "    aucs += descr + \":%3f\"%roc_auc_score(actual, predicted) + \" \"\n",
    "    plt.plot(fpr, tpr, label=descr)\n",
    "plt.xlabel(\"false positive rate\")\n",
    "plt.ylabel(\"true positive rate\")\n",
    "plt.legend(loc=4)\n",
    "plt.axis([-0.1, 1.1, -0.1, 1.1])\n",
    "print (aucs)"
   ],
   "execution_count": 21,
   "outputs": [
    {
     "name": "stdout",
     "output_type": "stream",
     "text": [
      "Perfect:1.000000 Typical:0.884444 Awful:0.041667 Ideal careful:1.000000 Ideal Risky:1.000000 Typical careful:0.884444 Typical risky:0.738095 Typical:0.884444 Avoids FP:0.819048 Avoids FN:0.780220 \n"
     ]
    },
    {
     "data": {
      "text/plain": "<Figure size 1080x360 with 3 Axes>",
      "image/png": "[encoded data removed]"
     },
     "metadata": {
      "needs_background": "light"
     },
     "output_type": "display_data"
    }
   ]
  },
  {
   "cell_type": "markdown",
   "metadata": {
    "id": "cGUsRbqhsgcU"
   },
   "source": [
    "The more objects in the sample, the smoother the curve looks (although in reality it is still stepped).\n",
    "\n",
    "As expected, the curves of all ideal algorithms pass through the upper left corner. The first graph also shows a typical ROC curve (usually, in practice, they do not reach the “ideal” angle).\n",
    "\n",
    "The AUC of the risk algorithm is significantly less than that of a cautious one, although careful and risking ideal algorithms do not differ in ROC or AUC. Therefore, to strive to increase the gap between the probability intervals of the classes does not make sense.\n",
    "\n",
    "There is a distortion of the curve in the case when the algorithm has FP or FN errors. However, it is impossible to track this by the value of AUC (the curves can be symmetric about the diagonal (0, 1) - (1, 0))."
   ]
  },
  {
   "cell_type": "markdown",
   "metadata": {
    "id": "qkBOIaetsgcU"
   },
   "source": [
    "After the curve has been plotted, it is convenient to choose a binarization threshold in which a compromise will be reached between FP or FN. The threshold corresponds to a point on the curve. If we want to avoid FP errors, we need to choose a point on the left side of the square (as high as possible), if FN is a point on the upper side of the square (as left as possible). All intermediate points will correspond to different proportions of FP and FN."
   ]
  },
  {
   "cell_type": "markdown",
   "metadata": {
    "id": "8KxKhPvLsgcU"
   },
   "source": [
    "### Conclusion\n",
    "We looked at several binary classification metrics. Some of them, for example, log_loss, are generalized to a multi-class case. If the metric is difficult to generalize as a formula, the multi-class classification problem is considered as a set of problems of binary classification and then the metric is averaged in special ways (for example, micro and macro averaging).\n",
    "\n",
    "In practice, it is always useful to visualize the vectors that your algorithm produces, in order to understand what errors it makes at different thresholds and how the metric responds to the prediction vectors produced."
   ]
  },
  {
   "cell_type": "code",
   "metadata": {
    "id": "N1ofV9OcsgcV"
   },
   "source": [
    ""
   ],
   "execution_count": null,
   "outputs": []
  }
 ]
}