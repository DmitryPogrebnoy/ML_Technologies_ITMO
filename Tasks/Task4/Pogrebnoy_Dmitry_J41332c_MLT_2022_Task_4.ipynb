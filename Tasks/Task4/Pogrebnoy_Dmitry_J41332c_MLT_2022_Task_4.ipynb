{
 "cells": [
  {
   "cell_type": "markdown",
   "source": [
    "Task 4:\n",
    "1.\tDownload Alice in Wonderland by Lewis Carroll from Project Gutenberg's website http://www.gutenberg.org/files/11/11-0.txt\n",
    "2.\tPerform any necessary preprocessing on the text, including converting to lower case, removing stop words, numbers / non-alphabetic characters, lemmatization.\n",
    "3.\tFind Top 10 most important (for example, in terms of TF-IDF metric) words from each chapter in the text (not \"Alice\"); how would you name each chapter according to the identified tokens?\n",
    "4.\tFind the Top 10 most used verbs in sentences with Alice. What does Alice do most often?\n",
    "5.\t*(not necessary) Find Top 100 most used verbs in sentences with Alice. Get word vectors using a pre-trained word2vec model and visualize them. Compare the words using embeddings.\n",
    "\n"
   ],
   "metadata": {
    "collapsed": false
   }
  },
  {
   "cell_type": "code",
   "execution_count": 95,
   "metadata": {
    "collapsed": true
   },
   "outputs": [],
   "source": [
    "import re\n",
    "from collections import Counter\n",
    "import numpy as np\n",
    "from sklearn.feature_extraction.text import TfidfVectorizer\n",
    "import spacy"
   ]
  },
  {
   "cell_type": "markdown",
   "source": [
    "# Load text"
   ],
   "metadata": {
    "collapsed": false
   }
  },
  {
   "cell_type": "code",
   "execution_count": 96,
   "outputs": [],
   "source": [
    "with open(\"11-0.txt\", \"r\", encoding=\"utf8\") as file:\n",
    "    text = file.read()"
   ],
   "metadata": {
    "collapsed": false,
    "pycharm": {
     "name": "#%%\n"
    }
   }
  },
  {
   "cell_type": "code",
   "execution_count": 97,
   "outputs": [
    {
     "data": {
      "text/plain": "'The Project Gutenberg eBook of Alice’s Adventures in Wonderland, by Lewis Carroll\\n\\nThis eBook is for the use of anyone anywhere in the United States and\\nmost other parts of the world at no cost and with almost no restrictions\\nwhatsoever. You may copy it, give it away or re-use it under the terms\\nof the Project Gutenberg License included with this eBook or online at\\nwww.gutenberg.org. If you are not located in the United States, you\\nwill have to check the laws of the country where you are located before\\nusing this eBook.\\n\\nTitle: Alice’s Adventures in Wonderland\\n\\nAuthor: Lewis Carroll\\n\\nRelease Date: January, 1991 [eBook #11]\\n[Most recently updated: October 12, 2020]\\n\\nLanguage: English\\n\\nCharacter set encoding: UTF-8\\n\\nProduced by: Arthur DiBianca and David Widger\\n\\n*** START OF THE PROJECT GUTENBERG EBOOK ALICE’S ADVENTURES IN WONDERLAND ***\\n\\n[Illustration]\\n\\n\\n\\n\\nAlice’s Adventures in Wonderland\\n\\nby Lewis Carroll\\n\\nTHE MILLENNIUM FULCRUM EDITION 3.0\\n\\nContents\\n\\n CHAPTER I.     Down the Rabbit-H'"
     },
     "execution_count": 97,
     "metadata": {},
     "output_type": "execute_result"
    }
   ],
   "source": [
    "text[:1000]"
   ],
   "metadata": {
    "collapsed": false,
    "pycharm": {
     "name": "#%%\n"
    }
   }
  },
  {
   "cell_type": "code",
   "execution_count": 98,
   "outputs": [
    {
     "name": "stdout",
     "output_type": "stream",
     "text": [
      " I.\n",
      "Down the Rabbit-Hole\n",
      "\n",
      "\n",
      "Alice was beginning to get very tired of sitting by her sister on the\n",
      "bank, and of having nothing to do: once or twice she had peeped into\n",
      "the book her sister was reading, but it had no pictures or\n",
      "conversations in it, “and what is the use of a book,” thought Alice\n",
      "“without pictures or conversations?”\n",
      "\n",
      "So she was considering in her own mind (as well as she could, for the\n",
      "hot day made her feel very sleepy and stupid), whether the pleasure of\n",
      "making a daisy-chain would b\n",
      " II.\n",
      "The Pool of Tears\n",
      "\n",
      "\n",
      "“Curiouser and curiouser!” cried Alice (she was so much surprised, that\n",
      "for the moment she quite forgot how to speak good English); “now I’m\n",
      "opening out like the largest telescope that ever was! Good-bye, feet!”\n",
      "(for when she looked down at her feet, they seemed to be almost out of\n",
      "sight, they were getting so far off). “Oh, my poor little feet, I\n",
      "wonder who will put on your shoes and stockings for you now, dears? I’m\n",
      "sure _I_ shan’t be able! I shall be a great deal too f\n",
      " III.\n",
      "A Caucus-Race and a Long Tale\n",
      "\n",
      "\n",
      "They were indeed a queer-looking party that assembled on the bank—the\n",
      "birds with draggled feathers, the animals with their fur clinging close\n",
      "to them, and all dripping wet, cross, and uncomfortable.\n",
      "\n",
      "The first question of course was, how to get dry again: they had a\n",
      "consultation about this, and after a few minutes it seemed quite\n",
      "natural to Alice to find herself talking familiarly with them, as if\n",
      "she had known them all her life. Indeed, she had quite a long\n",
      " IV.\n",
      "The Rabbit Sends in a Little Bill\n",
      "\n",
      "\n",
      "It was the White Rabbit, trotting slowly back again, and looking\n",
      "anxiously about as it went, as if it had lost something; and she heard\n",
      "it muttering to itself “The Duchess! The Duchess! Oh my dear paws! Oh\n",
      "my fur and whiskers! She’ll get me executed, as sure as ferrets are\n",
      "ferrets! Where _can_ I have dropped them, I wonder?” Alice guessed in a\n",
      "moment that it was looking for the fan and the pair of white kid\n",
      "gloves, and she very good-naturedly began huntin\n",
      " V.\n",
      "Advice from a Caterpillar\n",
      "\n",
      "\n",
      "The Caterpillar and Alice looked at each other for some time in\n",
      "silence: at last the Caterpillar took the hookah out of its mouth, and\n",
      "addressed her in a languid, sleepy voice.\n",
      "\n",
      "“Who are _you?_” said the Caterpillar.\n",
      "\n",
      "This was not an encouraging opening for a conversation. Alice replied,\n",
      "rather shyly, “I—I hardly know, sir, just at present—at least I know\n",
      "who I _was_ when I got up this morning, but I think I must have been\n",
      "changed several times since then.”\n",
      "\n",
      "“What\n",
      " VI.\n",
      "Pig and Pepper\n",
      "\n",
      "\n",
      "For a minute or two she stood looking at the house, and wondering what\n",
      "to do next, when suddenly a footman in livery came running out of the\n",
      "wood—(she considered him to be a footman because he was in livery:\n",
      "otherwise, judging by his face only, she would have called him a\n",
      "fish)—and rapped loudly at the door with his knuckles. It was opened by\n",
      "another footman in livery, with a round face, and large eyes like a\n",
      "frog; and both footmen, Alice noticed, had powdered hair that cur\n",
      " VII.\n",
      "A Mad Tea-Party\n",
      "\n",
      "\n",
      "There was a table set out under a tree in front of the house, and the\n",
      "March Hare and the Hatter were having tea at it: a Dormouse was sitting\n",
      "between them, fast asleep, and the other two were using it as a\n",
      "cushion, resting their elbows on it, and talking over its head. “Very\n",
      "uncomfortable for the Dormouse,” thought Alice; “only, as it’s asleep,\n",
      "I suppose it doesn’t mind.”\n",
      "\n",
      "The table was a large one, but the three were all crowded together at\n",
      "one corner of it: “No room! No\n",
      " VIII.\n",
      "The Queen’s Croquet-Ground\n",
      "\n",
      "\n",
      "A large rose-tree stood near the entrance of the garden: the roses\n",
      "growing on it were white, but there were three gardeners at it, busily\n",
      "painting them red. Alice thought this a very curious thing, and she\n",
      "went nearer to watch them, and just as she came up to them she heard\n",
      "one of them say, “Look out now, Five! Don’t go splashing paint over me\n",
      "like that!”\n",
      "\n",
      "“I couldn’t help it,” said Five, in a sulky tone; “Seven jogged my\n",
      "elbow.”\n",
      "\n",
      "On which Seven looked up and \n",
      " IX.\n",
      "The Mock Turtle’s Story\n",
      "\n",
      "\n",
      "“You can’t think how glad I am to see you again, you dear old thing!”\n",
      "said the Duchess, as she tucked her arm affectionately into Alice’s,\n",
      "and they walked off together.\n",
      "\n",
      "Alice was very glad to find her in such a pleasant temper, and thought\n",
      "to herself that perhaps it was only the pepper that had made her so\n",
      "savage when they met in the kitchen.\n",
      "\n",
      "“When _I’m_ a Duchess,” she said to herself, (not in a very hopeful\n",
      "tone though), “I won’t have any pepper in my kitchen _\n",
      " X.\n",
      "The Lobster Quadrille\n",
      "\n",
      "\n",
      "The Mock Turtle sighed deeply, and drew the back of one flapper across\n",
      "his eyes. He looked at Alice, and tried to speak, but for a minute or\n",
      "two sobs choked his voice. “Same as if he had a bone in his throat,”\n",
      "said the Gryphon: and it set to work shaking him and punching him in\n",
      "the back. At last the Mock Turtle recovered his voice, and, with tears\n",
      "running down his cheeks, he went on again:—\n",
      "\n",
      "“You may not have lived much under the sea—” (“I haven’t,” said\n",
      "Alice)—“and p\n",
      " XI.\n",
      "Who Stole the Tarts?\n",
      "\n",
      "\n",
      "The King and Queen of Hearts were seated on their throne when they\n",
      "arrived, with a great crowd assembled about them—all sorts of little\n",
      "birds and beasts, as well as the whole pack of cards: the Knave was\n",
      "standing before them, in chains, with a soldier on each side to guard\n",
      "him; and near the King was the White Rabbit, with a trumpet in one\n",
      "hand, and a scroll of parchment in the other. In the very middle of the\n",
      "court was a table, with a large dish of tarts upon it: they\n",
      " XII.\n",
      "Alice’s Evidence\n",
      "\n",
      "\n",
      "“Here!” cried Alice, quite forgetting in the flurry of the moment how\n",
      "large she had grown in the last few minutes, and she jumped up in such\n",
      "a hurry that she tipped over the jury-box with the edge of her skirt,\n",
      "upsetting all the jurymen on to the heads of the crowd below, and there\n",
      "they lay sprawling about, reminding her very much of a globe of\n",
      "goldfish she had accidentally upset the week before.\n",
      "\n",
      "“Oh, I _beg_ your pardon!” she exclaimed in a tone of great dismay, and\n",
      "be\n"
     ]
    }
   ],
   "source": [
    "chapters = re.split(\"CHAPTER\", text)\n",
    "chapters = chapters[13:]\n",
    "for chapter in chapters:\n",
    "    print(chapter[:500])"
   ],
   "metadata": {
    "collapsed": false,
    "pycharm": {
     "name": "#%%\n"
    }
   }
  },
  {
   "cell_type": "code",
   "execution_count": 99,
   "outputs": [],
   "source": [
    "chapters[11] = re.split(\"THE END\", chapters[11])[0]"
   ],
   "metadata": {
    "collapsed": false,
    "pycharm": {
     "name": "#%%\n"
    }
   }
  },
  {
   "cell_type": "markdown",
   "source": [
    "# Find 10 most important words in each chapter"
   ],
   "metadata": {
    "collapsed": false
   }
  },
  {
   "cell_type": "code",
   "execution_count": 100,
   "outputs": [
    {
     "name": "stdout",
     "output_type": "stream",
     "text": [
      "Collecting en-core-web-sm==3.2.0\n",
      "  Downloading https://github.com/explosion/spacy-models/releases/download/en_core_web_sm-3.2.0/en_core_web_sm-3.2.0-py3-none-any.whl (13.9 MB)\n",
      "Requirement already satisfied: spacy<3.3.0,>=3.2.0 in c:\\users\\pogre\\desktop\\ml_technologies_itmo_2022\\venv\\lib\\site-packages (from en-core-web-sm==3.2.0) (3.2.2)\n",
      "Requirement already satisfied: spacy-legacy<3.1.0,>=3.0.8 in c:\\users\\pogre\\desktop\\ml_technologies_itmo_2022\\venv\\lib\\site-packages (from spacy<3.3.0,>=3.2.0->en-core-web-sm==3.2.0) (3.0.8)\n",
      "Requirement already satisfied: tqdm<5.0.0,>=4.38.0 in c:\\users\\pogre\\desktop\\ml_technologies_itmo_2022\\venv\\lib\\site-packages (from spacy<3.3.0,>=3.2.0->en-core-web-sm==3.2.0) (4.62.3)\n",
      "Requirement already satisfied: spacy-loggers<2.0.0,>=1.0.0 in c:\\users\\pogre\\desktop\\ml_technologies_itmo_2022\\venv\\lib\\site-packages (from spacy<3.3.0,>=3.2.0->en-core-web-sm==3.2.0) (1.0.1)\n",
      "Requirement already satisfied: catalogue<2.1.0,>=2.0.6 in c:\\users\\pogre\\desktop\\ml_technologies_itmo_2022\\venv\\lib\\site-packages (from spacy<3.3.0,>=3.2.0->en-core-web-sm==3.2.0) (2.0.6)\n",
      "Requirement already satisfied: numpy>=1.15.0 in c:\\users\\pogre\\desktop\\ml_technologies_itmo_2022\\venv\\lib\\site-packages (from spacy<3.3.0,>=3.2.0->en-core-web-sm==3.2.0) (1.22.2)\n",
      "Requirement already satisfied: setuptools in c:\\users\\pogre\\desktop\\ml_technologies_itmo_2022\\venv\\lib\\site-packages (from spacy<3.3.0,>=3.2.0->en-core-web-sm==3.2.0) (57.0.0)\n",
      "Requirement already satisfied: jinja2 in c:\\users\\pogre\\desktop\\ml_technologies_itmo_2022\\venv\\lib\\site-packages (from spacy<3.3.0,>=3.2.0->en-core-web-sm==3.2.0) (3.0.3)\n",
      "Requirement already satisfied: langcodes<4.0.0,>=3.2.0 in c:\\users\\pogre\\desktop\\ml_technologies_itmo_2022\\venv\\lib\\site-packages (from spacy<3.3.0,>=3.2.0->en-core-web-sm==3.2.0) (3.3.0)\n",
      "Requirement already satisfied: preshed<3.1.0,>=3.0.2 in c:\\users\\pogre\\desktop\\ml_technologies_itmo_2022\\venv\\lib\\site-packages (from spacy<3.3.0,>=3.2.0->en-core-web-sm==3.2.0) (3.0.6)\n",
      "Requirement already satisfied: typer<0.5.0,>=0.3.0 in c:\\users\\pogre\\desktop\\ml_technologies_itmo_2022\\venv\\lib\\site-packages (from spacy<3.3.0,>=3.2.0->en-core-web-sm==3.2.0) (0.4.0)\n",
      "Requirement already satisfied: thinc<8.1.0,>=8.0.12 in c:\\users\\pogre\\desktop\\ml_technologies_itmo_2022\\venv\\lib\\site-packages (from spacy<3.3.0,>=3.2.0->en-core-web-sm==3.2.0) (8.0.13)\n",
      "Requirement already satisfied: srsly<3.0.0,>=2.4.1 in c:\\users\\pogre\\desktop\\ml_technologies_itmo_2022\\venv\\lib\\site-packages (from spacy<3.3.0,>=3.2.0->en-core-web-sm==3.2.0) (2.4.2)\n",
      "Requirement already satisfied: packaging>=20.0 in c:\\users\\pogre\\desktop\\ml_technologies_itmo_2022\\venv\\lib\\site-packages (from spacy<3.3.0,>=3.2.0->en-core-web-sm==3.2.0) (21.3)\n",
      "Requirement already satisfied: requests<3.0.0,>=2.13.0 in c:\\users\\pogre\\desktop\\ml_technologies_itmo_2022\\venv\\lib\\site-packages (from spacy<3.3.0,>=3.2.0->en-core-web-sm==3.2.0) (2.27.1)\n",
      "Requirement already satisfied: pydantic!=1.8,!=1.8.1,<1.9.0,>=1.7.4 in c:\\users\\pogre\\desktop\\ml_technologies_itmo_2022\\venv\\lib\\site-packages (from spacy<3.3.0,>=3.2.0->en-core-web-sm==3.2.0) (1.8.2)\n",
      "Requirement already satisfied: pathy>=0.3.5 in c:\\users\\pogre\\desktop\\ml_technologies_itmo_2022\\venv\\lib\\site-packages (from spacy<3.3.0,>=3.2.0->en-core-web-sm==3.2.0) (0.6.1)\n",
      "Requirement already satisfied: blis<0.8.0,>=0.4.0 in c:\\users\\pogre\\desktop\\ml_technologies_itmo_2022\\venv\\lib\\site-packages (from spacy<3.3.0,>=3.2.0->en-core-web-sm==3.2.0) (0.7.6)\n",
      "Requirement already satisfied: cymem<2.1.0,>=2.0.2 in c:\\users\\pogre\\desktop\\ml_technologies_itmo_2022\\venv\\lib\\site-packages (from spacy<3.3.0,>=3.2.0->en-core-web-sm==3.2.0) (2.0.6)\n",
      "Requirement already satisfied: wasabi<1.1.0,>=0.8.1 in c:\\users\\pogre\\desktop\\ml_technologies_itmo_2022\\venv\\lib\\site-packages (from spacy<3.3.0,>=3.2.0->en-core-web-sm==3.2.0) (0.9.0)\n",
      "Requirement already satisfied: murmurhash<1.1.0,>=0.28.0 in c:\\users\\pogre\\desktop\\ml_technologies_itmo_2022\\venv\\lib\\site-packages (from spacy<3.3.0,>=3.2.0->en-core-web-sm==3.2.0) (1.0.6)\n",
      "Requirement already satisfied: pyparsing!=3.0.5,>=2.0.2 in c:\\users\\pogre\\desktop\\ml_technologies_itmo_2022\\venv\\lib\\site-packages (from packaging>=20.0->spacy<3.3.0,>=3.2.0->en-core-web-sm==3.2.0) (3.0.7)\n",
      "Requirement already satisfied: smart-open<6.0.0,>=5.0.0 in c:\\users\\pogre\\desktop\\ml_technologies_itmo_2022\\venv\\lib\\site-packages (from pathy>=0.3.5->spacy<3.3.0,>=3.2.0->en-core-web-sm==3.2.0) (5.2.1)\n",
      "Requirement already satisfied: typing-extensions>=3.7.4.3 in c:\\users\\pogre\\desktop\\ml_technologies_itmo_2022\\venv\\lib\\site-packages (from pydantic!=1.8,!=1.8.1,<1.9.0,>=1.7.4->spacy<3.3.0,>=3.2.0->en-core-web-sm==3.2.0) (4.0.1)\n",
      "Requirement already satisfied: certifi>=2017.4.17 in c:\\users\\pogre\\desktop\\ml_technologies_itmo_2022\\venv\\lib\\site-packages (from requests<3.0.0,>=2.13.0->spacy<3.3.0,>=3.2.0->en-core-web-sm==3.2.0) (2021.10.8)\n",
      "Requirement already satisfied: charset-normalizer~=2.0.0 in c:\\users\\pogre\\desktop\\ml_technologies_itmo_2022\\venv\\lib\\site-packages (from requests<3.0.0,>=2.13.0->spacy<3.3.0,>=3.2.0->en-core-web-sm==3.2.0) (2.0.12)\n",
      "Requirement already satisfied: idna<4,>=2.5 in c:\\users\\pogre\\desktop\\ml_technologies_itmo_2022\\venv\\lib\\site-packages (from requests<3.0.0,>=2.13.0->spacy<3.3.0,>=3.2.0->en-core-web-sm==3.2.0) (3.3)\n",
      "Requirement already satisfied: urllib3<1.27,>=1.21.1 in c:\\users\\pogre\\desktop\\ml_technologies_itmo_2022\\venv\\lib\\site-packages (from requests<3.0.0,>=2.13.0->spacy<3.3.0,>=3.2.0->en-core-web-sm==3.2.0) (1.26.8)\n",
      "Requirement already satisfied: colorama in c:\\users\\pogre\\desktop\\ml_technologies_itmo_2022\\venv\\lib\\site-packages (from tqdm<5.0.0,>=4.38.0->spacy<3.3.0,>=3.2.0->en-core-web-sm==3.2.0) (0.4.4)\n",
      "Requirement already satisfied: click<9.0.0,>=7.1.1 in c:\\users\\pogre\\desktop\\ml_technologies_itmo_2022\\venv\\lib\\site-packages (from typer<0.5.0,>=0.3.0->spacy<3.3.0,>=3.2.0->en-core-web-sm==3.2.0) (8.0.3)\n",
      "Requirement already satisfied: MarkupSafe>=2.0 in c:\\users\\pogre\\desktop\\ml_technologies_itmo_2022\\venv\\lib\\site-packages (from jinja2->spacy<3.3.0,>=3.2.0->en-core-web-sm==3.2.0) (2.0.1)\n",
      "[+] Download and installation successful\n",
      "You can now load the package via spacy.load('en_core_web_sm')\n"
     ]
    },
    {
     "name": "stderr",
     "output_type": "stream",
     "text": [
      "WARNING: You are using pip version 21.1.2; however, version 22.0.3 is available.\n",
      "You should consider upgrading via the 'C:\\Users\\pogre\\Desktop\\ML_Technologies_ITMO_2022\\venv\\Scripts\\python.exe -m pip install --upgrade pip' command.\n"
     ]
    }
   ],
   "source": [
    "!python -m spacy download en_core_web_sm"
   ],
   "metadata": {
    "collapsed": false,
    "pycharm": {
     "name": "#%%\n"
    }
   }
  },
  {
   "cell_type": "code",
   "execution_count": 101,
   "outputs": [],
   "source": [
    "nlp = spacy.load(\"en_core_web_sm\")\n",
    "tokenized_chapters = []\n",
    "for chapter in chapters:\n",
    "    doc = nlp(chapter)\n",
    "    tokens = ' '.join([token.lemma_.lower() for token in doc if (token.is_alpha and not token.is_stop and not token.text == \"Alice\")])\n",
    "    tokenized_chapters.append(tokens)"
   ],
   "metadata": {
    "collapsed": false,
    "pycharm": {
     "name": "#%%\n"
    }
   }
  },
  {
   "cell_type": "code",
   "execution_count": 102,
   "outputs": [
    {
     "data": {
      "text/plain": "12"
     },
     "execution_count": 102,
     "metadata": {},
     "output_type": "execute_result"
    }
   ],
   "source": [
    "len(tokenized_chapters)"
   ],
   "metadata": {
    "collapsed": false,
    "pycharm": {
     "name": "#%%\n"
    }
   }
  },
  {
   "cell_type": "code",
   "execution_count": 103,
   "outputs": [
    {
     "name": "stdout",
     "output_type": "stream",
     "text": [
      "rabbit hole begin ti\n",
      "ii pool tears curiou\n",
      "iii caucus race long\n",
      "iv rabbit send littl\n",
      "advice caterpillar c\n",
      "vi pig pepper minute\n",
      "vii mad tea party ta\n",
      "viii queen croquet g\n",
      "ix mock turtle story\n",
      "lobster quadrille mo\n",
      "xi steal tarts king \n",
      "xii evidence cry for\n"
     ]
    }
   ],
   "source": [
    "for tokenized_chapter in tokenized_chapters:\n",
    "    print(tokenized_chapter[:20])"
   ],
   "metadata": {
    "collapsed": false,
    "pycharm": {
     "name": "#%%\n"
    }
   }
  },
  {
   "cell_type": "code",
   "execution_count": 104,
   "outputs": [
    {
     "data": {
      "text/plain": "(11, 1696)"
     },
     "execution_count": 104,
     "metadata": {},
     "output_type": "execute_result"
    }
   ],
   "source": [
    "# Compute tf-idf\n",
    "vectorizer = TfidfVectorizer()\n",
    "X = vectorizer.fit_transform(tokenized_chapters[1:])\n",
    "X = X.toarray()\n",
    "X.shape"
   ],
   "metadata": {
    "collapsed": false,
    "pycharm": {
     "name": "#%%\n"
    }
   }
  },
  {
   "cell_type": "code",
   "execution_count": 105,
   "outputs": [
    {
     "name": "stdout",
     "output_type": "stream",
     "text": [
      "Chapter_id 0 - ['mouse' 'little' 'pool' 'say' 'oh' 'cat' 'dear' 'cry' 'swam' 'think']\n",
      "Chapter_id 1 - ['say' 'mouse' 'dodo' 'prize' 'race' 'lory' 'know' 'dry' 'thimble' 'dinah']\n",
      "Chapter_id 2 - ['bill' 'rabbit' 'little' 'window' 'puppy' 'grow' 'say' 'bottle' 'glove'\n",
      " 'fan']\n",
      "Chapter_id 3 - ['caterpillar' 'say' 'pigeon' 'serpent' 'egg' 'youth' 'size' 'think'\n",
      " 'father' 'little']\n",
      "Chapter_id 4 - ['say' 'cat' 'footman' 'baby' 'mad' 'duchess' 'grin' 'go' 'think' 'sneeze']\n",
      "Chapter_id 5 - ['hatter' 'dormouse' 'say' 'hare' 'march' 'tea' 'twinkle' 'time' 'know'\n",
      " 'go']\n",
      "Chapter_id 6 - ['queen' 'say' 'hedgehog' 'king' 'gardener' 'look' 'go' 'cat' 'soldier'\n",
      " 'procession']\n",
      "Chapter_id 7 - ['say' 'turtle' 'mock' 'gryphon' 'duchess' 'moral' 'queen' 'go' 'think'\n",
      " 'school']\n",
      "Chapter_id 8 - ['turtle' 'mock' 'gryphon' 'say' 'lobster' 'dance' 'soup' 'beautiful'\n",
      " 'whiting' 'oop']\n",
      "Chapter_id 9 - ['king' 'hatter' 'say' 'court' 'dormouse' 'witness' 'jury' 'juror'\n",
      " 'officer' 'queen']\n",
      "Chapter_id 10 - ['say' 'king' 'jury' 'dream' 'write' 'sister' 'queen' 'slate' 'rabbit'\n",
      " 'white']\n"
     ]
    }
   ],
   "source": [
    "feature_names = np.asarray(vectorizer.get_feature_names_out())\n",
    "for chapter_id in range(X.shape[0]):\n",
    "    top_words = np.argsort(X[chapter_id])[::-1][:10]\n",
    "    print(f\"Chapter_id {chapter_id} - {feature_names[top_words]}\")"
   ],
   "metadata": {
    "collapsed": false,
    "pycharm": {
     "name": "#%%\n"
    }
   }
  },
  {
   "cell_type": "markdown",
   "source": [
    "# Find the Top 10 most used verbs in sentences with Alice."
   ],
   "metadata": {
    "collapsed": false
   }
  },
  {
   "cell_type": "code",
   "execution_count": 106,
   "outputs": [
    {
     "data": {
      "text/plain": "[('say', 178),\n ('think', 85),\n ('go', 51),\n ('look', 44),\n ('know', 39),\n ('begin', 37),\n ('come', 29),\n ('get', 26),\n ('feel', 25),\n ('find', 23)]"
     },
     "execution_count": 106,
     "metadata": {},
     "output_type": "execute_result"
    }
   ],
   "source": [
    "doc = nlp(text)\n",
    "all_verbs = []\n",
    "for sent in doc.sents:\n",
    "    if \"alice\" in sent.text.lower():\n",
    "        for token in sent:\n",
    "            if (token.pos_ == \"VERB\") and token.is_alpha and (not token.is_stop):\n",
    "                all_verbs.append(token.lemma_.lower())\n",
    "\n",
    "counter = Counter(all_verbs)\n",
    "counter.most_common(10)"
   ],
   "metadata": {
    "collapsed": false,
    "pycharm": {
     "name": "#%%\n"
    }
   }
  }
 ],
 "metadata": {
  "kernelspec": {
   "display_name": "Python 3",
   "language": "python",
   "name": "python3"
  },
  "language_info": {
   "codemirror_mode": {
    "name": "ipython",
    "version": 2
   },
   "file_extension": ".py",
   "mimetype": "text/x-python",
   "name": "python",
   "nbconvert_exporter": "python",
   "pygments_lexer": "ipython2",
   "version": "2.7.6"
  }
 },
 "nbformat": 4,
 "nbformat_minor": 0
}